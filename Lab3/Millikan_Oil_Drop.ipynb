{
 "cells": [
  {
   "cell_type": "code",
   "execution_count": 1,
   "id": "faf145c1",
   "metadata": {},
   "outputs": [],
   "source": [
    "from scipy.optimize import curve_fit\n",
    "import numpy as np\n",
    "import matplotlib\n",
    "from matplotlib import pyplot as plt\n",
    "%matplotlib inline "
   ]
  },
  {
   "cell_type": "markdown",
   "id": "ad24492c",
   "metadata": {},
   "source": [
    "# Dados coletados\n"
   ]
  },
  {
   "cell_type": "code",
   "execution_count": 2,
   "id": "35aff3c2",
   "metadata": {},
   "outputs": [],
   "source": [
    "#Tempo de subida t_r (matrix que acomoda todos os conjuntos de dados em uma única variável)\n",
    "t_r = []\n",
    "\n",
    "#Primeiro conjunto de dados\n",
    "t_r1 = np.array([0.47,1.00,0.59,1.78,0.94,0.75,1.19,0.47]) #s\n",
    "t_r.append(t_r1)\n",
    "\n",
    "#Segundo conjunto de dados\n",
    "#t_r2 = np.array([])\n",
    "#t_r.append(t_r2)\n",
    "\n",
    "\n",
    "\n",
    "\n",
    "\n",
    "#Tempo de queda (matrix que acomoda todos os conjuntos de dados em uma única variável)\n",
    "t_f = []\n",
    "\n",
    "#Primeiro conjunto de dados\n",
    "t_f1 = np.array([0.47,0.47,1.16,0.47,1.09,1.10,0.91,1.18,1.16]) #s\n",
    "t_f.append(t_f1)\n",
    "\n",
    "#Segundo conjunto de dados\n",
    "#t_f2 = np.array([])\n",
    "#t_f.append(t_f2)\n",
    "\n",
    "\n",
    "#Separação das placas do capacitor e sua incerteza instrumental:\n",
    "d = 8.75e-3 #m\n",
    "sigma_d = 5e-5 #m\n",
    "\n",
    "#Diferença de potencial aplicada nas placas e incerteza instrumental\n",
    "delta_V = 202 #V\n",
    "sigma_V = 0.5 #V\n",
    "\n",
    "\n",
    "#Os intervalos de tempo foram medidos com um cronômetro de incerteza\n",
    "sigma_t_inst = 0.005 #s"
   ]
  },
  {
   "cell_type": "markdown",
   "id": "61b063bf",
   "metadata": {},
   "source": [
    "# Incerteza do tempo\n",
    "\n",
    "Nós temos uma incerteza instrumental e também estatística no tempo medido. Tendo isto em vista devemos unir as duas da seguinte forma:\n",
    "\n",
    "$$\\sigma_\\bar{t} = \\sqrt{\\sigma_{inst}^2 + \\sigma_{est}^2}$$\n",
    "\n",
    "Onde $\\sigma_{est}$ é o desvio padrão da média."
   ]
  },
  {
   "cell_type": "code",
   "execution_count": 3,
   "id": "78c2789f",
   "metadata": {},
   "outputs": [
    {
     "name": "stdout",
     "output_type": "stream",
     "text": [
      "[0.039]\n",
      "[0.059]\n"
     ]
    }
   ],
   "source": [
    "#Incerteza do tempo de queda\n",
    "sigma_t_f = []\n",
    "\n",
    "for t in t_f:\n",
    "    aux = np.sqrt(sigma_t_inst**2 + (np.std(t)/(len(t)-1))**2 )\n",
    "    aux = float('{:g}'.format(float('{:.2g}'.format(aux))))\n",
    "    sigma_t_f.append(aux)\n",
    "print(sigma_t_f)\n",
    "\n",
    "#Incerteza do tempo de subida\n",
    "sigma_t_r = []\n",
    "\n",
    "for t in t_r:\n",
    "    aux = np.sqrt(sigma_t_inst**2 + (np.std(t)/(len(t)-1))**2 )\n",
    "    aux = float('{:g}'.format(float('{:.2g}'.format(aux))))\n",
    "    sigma_t_r.append(aux)\n",
    "print(sigma_t_r)"
   ]
  },
  {
   "cell_type": "markdown",
   "id": "ff8b8e76",
   "metadata": {},
   "source": [
    "# Calculando as velocidades\n",
    "\n",
    "\n",
    "Seja $x$ o comprimento da menor divisão da grade, então a velocidade da gota pode ser calculculada aproximadamente como:\n",
    "\n",
    "$$v = \\frac{x}{\\bar{t}}$$\n",
    "\n",
    "Onde $\\bar{t}$ é o tempo médio"
   ]
  },
  {
   "cell_type": "code",
   "execution_count": 11,
   "id": "7a4e7c17",
   "metadata": {},
   "outputs": [],
   "source": [
    "#Tamanho do intervalo da grande:\n",
    "x = 5e-4 #m\n",
    "\n",
    "#Velocidade de subida\n",
    "v_r = []\n",
    "for t in t_r:\n",
    "    v_r.append(x/np.mean(t)) #m/s\n",
    "\n",
    "#Velocidade de queda\n",
    "v_f = []\n",
    "for t in t_f:\n",
    "    v_f.append(x/np.mean(t)) #m/s"
   ]
  },
  {
   "cell_type": "markdown",
   "id": "c8bbecd0",
   "metadata": {},
   "source": [
    "# Calculando a incerteza das velocidades\n",
    "\n",
    "A incerteza da velocidade será dada pela seguinte expressão:\n",
    "\n",
    "$$\\sigma_v = \\sqrt{\\left(\\frac{\\partial}{\\partial \\bar{t}}v\\right)^2\\sigma_\\bar{t}^2} = \\bigg|\\frac{\\partial}{\\partial \\bar{t}}v\\bigg|\\sigma_\\bar{t}$$\n",
    "\n",
    "Utilizando a expressão de $v$:\n",
    "\n",
    "$$\\sigma_v  = x\\bigg|\\frac{\\partial}{\\partial \\bar{t}}\\frac{1}{\\bar{t}}\\bigg|\\sigma_\\bar{t} = \\frac{x}{\\bar{t}^2}\\sigma_{\\bar{t}}$$"
   ]
  },
  {
   "cell_type": "code",
   "execution_count": 5,
   "id": "6f6665fc",
   "metadata": {},
   "outputs": [
    {
     "name": "stdout",
     "output_type": "stream",
     "text": [
      "[3.7e-05]\n",
      "[2.5e-05]\n"
     ]
    }
   ],
   "source": [
    "#Incerteza da velocidade de subida\n",
    "sigma_v_r = []\n",
    "for i,t in enumerate(t_r):\n",
    "    aux = x/(np.mean(t)**2) * sigma_t_r[i]\n",
    "    aux = float('{:g}'.format(float('{:.2g}'.format(aux))))\n",
    "    sigma_v_r.append(aux)\n",
    "print(sigma_v_r)\n",
    "\n",
    "#Incerteza da velocidade de queda\n",
    "sigma_v_f = []\n",
    "for i,t in enumerate(t_f):\n",
    "    aux = x/(np.mean(t)**2) * sigma_t_f[i]\n",
    "    aux = float('{:g}'.format(float('{:.2g}'.format(aux))))\n",
    "    sigma_v_f.append(aux)\n",
    "print(sigma_v_f)\n",
    "    "
   ]
  },
  {
   "cell_type": "markdown",
   "id": "42bf3d6c",
   "metadata": {},
   "source": [
    "# Calculando a carga\n",
    "\n",
    "$$q = \\frac{4}{3}\\pi \\left[\\sqrt{\\left(\\frac{b}{2p}\\right)^2 + \\frac{9\\eta v_f}{2\\rho g}} - \\frac{b}{2p}\\right]^3 \\frac{\\rho g d}{V} \\frac{(v_f + v_r)}{v_f}$$"
   ]
  },
  {
   "cell_type": "code",
   "execution_count": 15,
   "id": "8e8bcad7",
   "metadata": {},
   "outputs": [
    {
     "name": "stdout",
     "output_type": "stream",
     "text": [
      "Carga = [3.7262705585606456e-17] C\n"
     ]
    }
   ],
   "source": [
    "# Constantes que utilizaremos:\n",
    "\n",
    "b = 8.2e-3 #Pa m\n",
    "\n",
    "#Densidade do óleo\n",
    "rho = 886 #kg/m^3\n",
    "\n",
    "#Aceleração da gravidade\n",
    "g = 9.8 #m/s\n",
    "\n",
    "#Viscodidade do ar a uma temperatura de aproximadamente 26 graus Celsius\n",
    "eta = 1.8520e-5 #Nsm^-2\n",
    "\n",
    "#Pressão barométrica\n",
    "p = 101325 #Pa\n",
    "\n",
    "\n",
    "#Calculando a carga com a equação corrigida para a queda com campo elétrico ligado (Ignorar)\n",
    "#q = 4/3 * np.pi * (np.sqrt((b/(2*p))**2 + 9*eta*np.array(v_f)/(2*rho*g)) - b/(2*p))**3 * rho * g * d/delta_V * (np.array(v_f) - np.array(v_r))/(np.array(v_f) + np.array(v_r)) \n",
    "\n",
    "#Calculando a carga uilizando a equação derivada no roteiro\n",
    "q = []\n",
    "for i, vf in enumerate(v_f):\n",
    "    charge = 4/3 * np.pi * (np.sqrt((b/(2*p))**2 + 9*eta*vf/(2*rho*g)) - b/(2*p))**3 * rho * g * d/delta_V * (vf + v_r[i])/(vf)\n",
    "    q.append(charge)\n",
    "\n",
    "print('Carga =',q, 'C')\n",
    "\n"
   ]
  },
  {
   "cell_type": "markdown",
   "id": "f673863b",
   "metadata": {},
   "source": [
    "# Calculando a incerteza da carga\n",
    "\n",
    "Propagando a incerteza da velocidade de queda, velocidade de subida, tensão e serparação da placa dos capacitores para a carga:\n",
    "\n",
    "$$\\sigma_q = \\sqrt{\\left(\\frac{\\partial q}{\\partial v_f}\\right)^2\\sigma_{v_f}^2 + \\left(\\frac{\\partial q}{\\partial v_r}\\right)^2\\sigma_{v_r}^2 + \\left(\\frac{\\partial q}{\\partial V}\\right)^2\\sigma_{V}^2 + \\left(\\frac{\\partial q}{\\partial d}\\right)^2\\sigma_{d}^2}$$\n",
    "\n",
    "Utilizando a expressão de $q$ nós obtemos que:\n",
    "\n",
    "$$\\frac{\\partial q}{\\partial v_f} = \\frac{4}{3}\\pi\\frac{\\rho g d}{V}\\left[\\sqrt{\\left(\\frac{b}{2p}\\right)^2 + \\frac{9\\eta v_f}{2\\rho g}} - \\frac{b}{2p}\\right]^2\\left[\\frac{27}{4}\\frac{\\eta}{\\rho g}\\frac{1}{\\sqrt{\\left(\\frac{b}{2p}\\right)^2 + \\frac{9\\eta v_f}{2\\rho g}}}\\frac{(v_f + v_i)}{v_f} - \\left(\\sqrt{\\left(\\frac{b}{2p}\\right)^2 + \\frac{9\\eta v_f}{2\\rho g}} - \\frac{b}{2p}\\right) \\frac{v_r}{v_f^2} \\right]$$\n",
    "\n",
    "$$\\frac{\\partial q }{\\partial v_r} = \\frac{4}{3}\\pi \\frac{\\rho g d}{V}\\left[\\sqrt{\\left(\\frac{b}{2p}\\right)^2 + \\frac{9\\eta v_f}{2\\rho g}} - \\frac{b}{2p}\\right]^3 \\frac{1}{v_f}$$\n",
    "\n",
    "$$\\frac{\\partial q}{\\partial V} = -\\frac{4}{3}\\pi \\frac{\\rho g d}{V^2}\\left[\\sqrt{\\left(\\frac{b}{2p}\\right)^2 + \\frac{9\\eta v_f}{2\\rho g}} - \\frac{b}{2p}\\right]^3\\frac{(v_f + v_r)}{v_f}$$\n",
    "\n",
    "$$\\frac{\\partial q}{\\partial d} = \\frac{4}{3}\\pi \\frac{\\rho g }{V}\\left[\\sqrt{\\left(\\frac{b}{2p}\\right)^2 + \\frac{9\\eta v_f}{2\\rho g}} - \\frac{b}{2p}\\right]^3\\frac{(v_f + v_r)}{v_f}$$\n",
    "\n",
    "\n",
    "Assim:\n",
    "\n",
    "$$\\sigma_q = q\\sqrt{\\left[\\frac{27}{4}\\frac{\\eta}{\\rho g}\\frac{1}{\\left(\\sqrt{\\left(\\frac{b}{2p}\\right)^2 + \\frac{9\\eta v_f}{2\\rho g}} - \\frac{b}{2p}\\right)\\sqrt{\\left(\\frac{b}{2p}\\right)^2 + \\frac{9\\eta v_f}{2\\rho g}}} -  \\frac{v_r}{v_f(v_f + v_r)} \\right]^2 \\sigma_{v_f}^2 + \\left[\\frac{\\sigma_{v_r}}{(v_f + v_r)}\\right]^2 + \\left[\\frac{\\sigma_d}{d}\\right]^2 + \\left[\\frac{\\sigma_V}{V}\\right]^2}$$"
   ]
  },
  {
   "cell_type": "code",
   "execution_count": 14,
   "id": "7819115b",
   "metadata": {},
   "outputs": [
    {
     "name": "stdout",
     "output_type": "stream",
     "text": [
      "[5.2e-21]\n"
     ]
    }
   ],
   "source": [
    "#Devido ao tamanho da expressão, vamos calculá-la em blocos\n",
    "\n",
    "sigma_q = []\n",
    "\n",
    "for i,vf in enumerate(v_f):\n",
    "    #Fazendo os cálculos \n",
    "    sqrt = np.sqrt((b/(2*p))**2 + 9*eta*vf/(2*rho*g))\n",
    "    x_1 = sigma_v_f[i]*(27/4 * eta/(rho * g) * 1/((sqrt - b/(2*p))*sqrt) - v_r[i]/(vf*(vf + v_r[i])))\n",
    "    x_2 = sigma_v_r[i]/(vf + v_r[i])\n",
    "    x_3 = sigma_d/d\n",
    "    x_4 = sigma_V/delta_V\n",
    "    aux = q[i]*np.sqrt(x_1**2 + x_2**2 + x_3**2 + x_4**2)\n",
    "    aux = float('{:g}'.format(float('{:.2g}'.format(aux))))\n",
    "    \n",
    "    #Armazenando a incerteza para cada valor de carga\n",
    "    sigma_q.append(aux)\n",
    "    \n",
    "print(sigma_q)"
   ]
  },
  {
   "cell_type": "code",
   "execution_count": null,
   "id": "151fda3e",
   "metadata": {},
   "outputs": [],
   "source": []
  }
 ],
 "metadata": {
  "kernelspec": {
   "display_name": "Python 3 (ipykernel)",
   "language": "python",
   "name": "python3"
  },
  "language_info": {
   "codemirror_mode": {
    "name": "ipython",
    "version": 3
   },
   "file_extension": ".py",
   "mimetype": "text/x-python",
   "name": "python",
   "nbconvert_exporter": "python",
   "pygments_lexer": "ipython3",
   "version": "3.9.12"
  }
 },
 "nbformat": 4,
 "nbformat_minor": 5
}
