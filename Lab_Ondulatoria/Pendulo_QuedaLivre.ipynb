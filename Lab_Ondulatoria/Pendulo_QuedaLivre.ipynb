{
 "cells": [
  {
   "cell_type": "code",
   "execution_count": 1,
   "id": "e101edac",
   "metadata": {},
   "outputs": [],
   "source": [
    "from scipy.optimize import curve_fit\n",
    "import numpy as np\n",
    "import matplotlib\n",
    "from matplotlib import pyplot as plt\n",
    "%matplotlib inline \n",
    "import seaborn as sns\n",
    "import pandas as pd"
   ]
  },
  {
   "cell_type": "markdown",
   "id": "370786b6",
   "metadata": {},
   "source": [
    "# O Pêndulo Simples\n",
    "\n",
    "## Dados coletados"
   ]
  },
  {
   "cell_type": "code",
   "execution_count": 104,
   "id": "d2232551",
   "metadata": {},
   "outputs": [
    {
     "name": "stdout",
     "output_type": "stream",
     "text": [
      "0.005811865258054235\n"
     ]
    }
   ],
   "source": [
    "t = np.array([2.81, 2.87, 2.88, 2.81, 2.88, 2.88, 2.81, 2.88, 2.89, 2.82, 2.88, 2.89, 2.87, 2.82, 2.88, \n",
    "              2.81, 2.91, 2.90, 2.88, 2.88, 2.87, 2.89, 2.90, 2.89, 2.89, 2.87, 2.88, 2.87, 2.88, 2.93,\n",
    "             ]) #s\n",
    "\n",
    "print(np.std(t)/np.sqrt(len(t)-1))"
   ]
  },
  {
   "cell_type": "code",
   "execution_count": 103,
   "id": "166d57d0",
   "metadata": {},
   "outputs": [],
   "source": [
    "#1: 15.42, 12.54, 9.67, 6.86\n",
    "#2: 91.80, 88.92, 86.04, 83.23\n",
    "#3: 9.12, 6.23, 3.35, 0.54\n",
    "#4: 23.36, 20.37, 17.49, 14.67\n",
    "#5: 17.35, 14.47, 11.65, 8.78\n",
    "#6: 12.09, 9.19, 6.28, 3.47\n",
    "#7: 18.78, 15.91, 13.03, 10.15\n",
    "#8: 16.38, 13.49, 10.59, 7.69\n",
    "#9: 13.17, 10.29, 7.42, 4.53\n",
    "#10: 12.23,9.30, 6.42, 3.55\n",
    "\n"
   ]
  },
  {
   "cell_type": "markdown",
   "id": "2a97672a",
   "metadata": {},
   "source": [
    "## A incerteza do período:\n",
    "\n",
    "A medida do período do pêndulo foi tomada através de uma gravação de seu movimento, a qual conta com um cronômetro. Ao analisarmos o vídeo vemos que, em média, o menor instante de tempo em que conseguimos perceber a mudança de um quadro pra outro é de $0.07 s$. Tendo isto em vista, adoratemos como incerteza instrumental sendo metade dessa menor medida de percepção com apenas um algarismo significativo, isto é, ${\\sigma_T}_{inst} = 0.035s$, o qual se trata de um valor maior do que a incerteza do cronômetro. Adotando apenas um algarismo significativo para a nossa incerteza instrumental temos ${\\sigma_T}_{inst} = 0.035s$. Além disto, também temos um erro estatístico que consiste no desvio padrão da média, o qual é definido por:\n",
    "\n",
    "$${\\sigma_{T}}_{est} = \\sqrt{\\frac{1}{N(N-1)} \\sum_{i=1}^N (T_i - \\bar{T})^2}$$\n",
    "\n",
    "\n",
    "onde $\\bar{T}$ consiste na média das medidas de período. A incerteza final do período consiste na raiz da soma quadrática da incerteza instrumental e estatísitca:\n",
    "\n",
    "$$\\sigma_\\bar{T} = \\sqrt{{\\sigma_{T}}_{inst}^2 + {\\sigma_{\\bar{T}}}_{est}^2}$$"
   ]
  },
  {
   "cell_type": "code",
   "execution_count": 117,
   "id": "bfa200a4",
   "metadata": {},
   "outputs": [
    {
     "name": "stdout",
     "output_type": "stream",
     "text": [
      "Incerteza estatística: 0.006s\n",
      "Incerteza final: 0.04s\n"
     ]
    }
   ],
   "source": [
    "sigma_T_est = np.std(t)/np.sqrt(len(t)-1)\n",
    "sigma_T = np.sqrt(sigma_T_est**2 + 0.04**2)\n",
    "print(\"Incerteza estatística: %.3fs\" % (sigma_T_est))\n",
    "print(\"Incerteza final: %.2fs\" % (sigma_T))"
   ]
  },
  {
   "cell_type": "markdown",
   "id": "f8c025b3",
   "metadata": {},
   "source": [
    "## O valor do módulo da aceleração da gravidade\n",
    "\n",
    "A expressão para o período do pêndulo é dada por:\n",
    "\n",
    "$$T = 2\\pi \\sqrt{\\frac{L}{g}}$$\n",
    "\n",
    "Para obtermos o valor do módulo da aceleração da gravidade utilizanodo o valor médio das medidas de período devemos isolá-lo na equação acima:\n",
    "\n",
    "$$g_{exp} = \\left(\\frac{2\\pi}{\\bar{T}}\\right)^2 L $$\n",
    "\n",
    "A incerteza atrelada a essa grandeza pode ser obtida propagando o erro associado a $L$ e a $\\bar{T}$ da seguinte maneira:\n",
    "\n",
    "$$\\sigma_{g_{exp}} = \\sqrt{\\left(\\frac{\\partial g_{exp}}{\\partial \\bar{T}}\\right)^2\\sigma_{\\bar{T}}^2 + \\left(\\frac{\\partial g_{exp}}{\\partial L}\\right)^2\\sigma_{L}^2}$$\n",
    "\n",
    "$$\\sigma_{g_{exp}} = \\sqrt{\\left(\\frac{\\partial \\left(\\frac{2\\pi}{\\bar{T}}\\right)^2 L}{\\partial \\bar{T}}\\right)^2\\sigma_{\\bar{T}}^2 + \\left(\\frac{\\partial \\left(\\frac{2\\pi}{\\bar{T}}\\right)^2 L}{\\partial L}\\right)^2\\sigma_{L}^2}$$\n",
    "\n",
    "$$\\sigma_{g_{exp}} = \\sqrt{\\left(-2\\frac{(2\\pi)^2}{\\bar{T}^3}L\\right)^2\\sigma_{\\bar{T}}^2 + \\left(\\frac{2\\pi}{\\bar{T}} \\right)^4\\sigma_{L}^2}$$\n",
    "\n",
    "$$\\sigma_{g_{exp}} = \\left(\\frac{2\\pi}{\\bar{T}}\\right)^2 L\\sqrt{\\left(2\\frac{\\sigma_{\\bar{T}}}{\\bar{T}}\\right)^2 + \\left(\\frac{\\sigma_L}{L} \\right)^2}$$\n",
    "\n",
    "$$\\sigma_{g_{exp}} = g_{exp}\\sqrt{\\left(2\\frac{\\sigma_{\\bar{T}}}{\\bar{T}}\\right)^2 + \\left(\\frac{\\sigma_L}{L} \\right)^2}$$"
   ]
  },
  {
   "cell_type": "code",
   "execution_count": 124,
   "id": "bb5e358f",
   "metadata": {},
   "outputs": [
    {
     "name": "stdout",
     "output_type": "stream",
     "text": [
      "g_exp = (10.0 +- 0.3) m/s^2\n",
      "0.01971621297792825\n"
     ]
    }
   ],
   "source": [
    "g = 9.80665 #m/s^2\n",
    "l = 2.08 #m\n",
    "sigma_L = 0.02/100 #m\n",
    "\n",
    "g_exp = (2*np.pi/np.mean(t))**2 * 2.08 #m/s^2\n",
    "\n",
    "sigma_g_exp = g_exp*np.sqrt((2*sigma_T/np.mean(t))**2 + (sigma_L/l)**2) #m/s^2\n",
    "\n",
    "print(\"g_exp = (%.1f +- %.1f) m/s^2\" % (g_exp, sigma_g_exp))\n",
    "\n",
    "print(10/g -1)"
   ]
  },
  {
   "cell_type": "code",
   "execution_count": 122,
   "id": "7472344e",
   "metadata": {},
   "outputs": [
    {
     "data": {
      "text/plain": [
       "0.2786809103576405"
      ]
     },
     "execution_count": 122,
     "metadata": {},
     "output_type": "execute_result"
    }
   ],
   "source": []
  }
 ],
 "metadata": {
  "kernelspec": {
   "display_name": "Python 3 (ipykernel)",
   "language": "python",
   "name": "python3"
  },
  "language_info": {
   "codemirror_mode": {
    "name": "ipython",
    "version": 3
   },
   "file_extension": ".py",
   "mimetype": "text/x-python",
   "name": "python",
   "nbconvert_exporter": "python",
   "pygments_lexer": "ipython3",
   "version": "3.9.12"
  }
 },
 "nbformat": 4,
 "nbformat_minor": 5
}
