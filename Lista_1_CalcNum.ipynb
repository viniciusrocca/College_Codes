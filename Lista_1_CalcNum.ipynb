{
 "cells": [
  {
   "cell_type": "code",
   "execution_count": 1,
   "id": "6331a58f",
   "metadata": {},
   "outputs": [],
   "source": [
    "from scipy.optimize import curve_fit\n",
    "import numpy as np\n",
    "import matplotlib\n",
    "from matplotlib import pyplot as plt\n",
    "%matplotlib inline\n",
    "from tabulate import tabulate\n",
    "import time"
   ]
  },
  {
   "cell_type": "markdown",
   "id": "c580e025",
   "metadata": {},
   "source": [
    "# Tarefa 1"
   ]
  },
  {
   "cell_type": "code",
   "execution_count": 2,
   "id": "bfca47f3",
   "metadata": {},
   "outputs": [],
   "source": [
    "def trapezoidal_rule(a,b,m,func):\n",
    "    h = (b-a)/m\n",
    "    t_m = 0.5*(func(a)+func(b))\n",
    "    for i in range(1,m):\n",
    "        x_i = a + i*h\n",
    "        t_m = t_m + func(x_i)\n",
    "        \n",
    "    return t_m*h"
   ]
  },
  {
   "cell_type": "code",
   "execution_count": 3,
   "id": "a995c7cc",
   "metadata": {},
   "outputs": [],
   "source": [
    "def trapezoidal_rule_Tarefa_3(a,b,m,k,func):\n",
    "    h = (b-a)/m\n",
    "    t_m = 0.5*(func(a,k)+func(b,k))\n",
    "    for i in range(1,m):\n",
    "        x_i = a + i*h\n",
    "        t_m = t_m + func(x_i,k)\n",
    "        \n",
    "    return t_m*h"
   ]
  },
  {
   "cell_type": "code",
   "execution_count": 4,
   "id": "f586843a",
   "metadata": {},
   "outputs": [],
   "source": [
    "#Esta função calcula o valor de g(x) no ponto x\n",
    "def g(x):\n",
    "    return 2520*(5*np.power(x,3) - 10*np.power(x,2) + 6*x - 1)"
   ]
  },
  {
   "cell_type": "code",
   "execution_count": 5,
   "id": "1fefaaf7",
   "metadata": {},
   "outputs": [],
   "source": [
    "#Esta função calcula o valor da primeira derivada de g(x) no ponto x\n",
    "def d_g(x):\n",
    "    return 2520*(15*np.power(x,2) - 20*x + 6)"
   ]
  },
  {
   "cell_type": "code",
   "execution_count": 6,
   "id": "f6401ecc",
   "metadata": {},
   "outputs": [],
   "source": [
    "#Esta função calcula o valor da segunda derivada de g(x) no ponto x\n",
    "def d2_g(x):\n",
    "    return 25200*(3*x-2)"
   ]
  },
  {
   "cell_type": "code",
   "execution_count": 7,
   "id": "73bbf09b",
   "metadata": {},
   "outputs": [],
   "source": [
    "def f1(x):\n",
    "    return 105*np.power(x,2)*np.power(1-x,4)"
   ]
  },
  {
   "cell_type": "code",
   "execution_count": 8,
   "id": "e8d2d9b8",
   "metadata": {},
   "outputs": [],
   "source": [
    "def d2_f1(x):\n",
    "    return 210*(15*np.power(x,2) -10*x + 1)*np.power((1-x),2)"
   ]
  },
  {
   "cell_type": "code",
   "execution_count": 9,
   "id": "25a5f98d",
   "metadata": {},
   "outputs": [],
   "source": [
    "def fao(tau):\n",
    "    return (trapezoidal_rule(0,tau,10000,f1) - 0.5)"
   ]
  },
  {
   "cell_type": "code",
   "execution_count": 10,
   "id": "0be621a0",
   "metadata": {},
   "outputs": [],
   "source": [
    "def f_Tarefa_3(x,k):\n",
    "    return np.power(x,(2*k)-1)"
   ]
  },
  {
   "cell_type": "code",
   "execution_count": 11,
   "id": "8de1b95d",
   "metadata": {},
   "outputs": [],
   "source": [
    "def int_f_Tarefa_3(k,a,b):\n",
    "    return (np.power(b,2*k) - np.power(a,2*k))/(2*k)"
   ]
  },
  {
   "cell_type": "code",
   "execution_count": 109,
   "id": "0eeb4151",
   "metadata": {},
   "outputs": [],
   "source": [
    "def d3f_Tarefa_3(x,k):\n",
    "    return (2*k-1)*(2*k-2)*(2*k-3)*np.power(x,2*k-4)"
   ]
  },
  {
   "cell_type": "code",
   "execution_count": 119,
   "id": "fb1743d8",
   "metadata": {},
   "outputs": [],
   "source": [
    "def b4(x_2,a,b,k,func):\n",
    "    s = 5\n",
    "    h = (b-a)/(s*np.power(2,k-1))\n",
    "    return (x_2/np.power(h,4)) * (24/(d3f_Tarefa_3(b,k) - d3f_Tarefa_3(a,k)))"
   ]
  },
  {
   "cell_type": "code",
   "execution_count": 12,
   "id": "f449dc05",
   "metadata": {},
   "outputs": [],
   "source": [
    "def newton_method(a,b,alpha_0,n_max,epsilon,func,d_func):\n",
    "    alpha = [alpha_0]\n",
    "    n = 0\n",
    "    while (func(alpha[n] + epsilon)*func(alpha[n] - epsilon) >= 0 and n <= n_max):\n",
    "        alpha.append(alpha[n] - func(alpha[n])/d_func(alpha[n]))\n",
    "        n = n + 1\n",
    "    return alpha[n],alpha[1:]"
   ]
  },
  {
   "cell_type": "code",
   "execution_count": 13,
   "id": "86db7b44",
   "metadata": {},
   "outputs": [],
   "source": [
    "def bisection_method(a,b,n_max,epsilon,func):\n",
    "    inf = a\n",
    "    sup = b\n",
    "    alpha = [(a+b)/2]\n",
    "    n=0\n",
    "    while (func(alpha[n] + epsilon)*func(alpha[n] - epsilon) >= 0 and n <= n_max):\n",
    "        if(func(inf)*func(alpha[n]) == 0):\n",
    "            if(func(inf) == 0):\n",
    "                return inf, alpha[1:]\n",
    "            else:\n",
    "                return alpha[n], alpha[1:]\n",
    "            \n",
    "        elif(func(inf)*func(alpha[n])< 0):\n",
    "            sup = alpha[n]\n",
    "            \n",
    "        else:\n",
    "            inf = alpha[n]\n",
    "            \n",
    "        alpha.append((sup+inf)/2) \n",
    "        n = n + 1\n",
    "    return alpha[n], alpha[1:]"
   ]
  },
  {
   "cell_type": "code",
   "execution_count": 14,
   "id": "3aa27daa",
   "metadata": {},
   "outputs": [],
   "source": [
    "def approx_printer(alpha, fmt = \"plain\", formato = \".17f\"):\n",
    "    index = np.array([\"i\"],dtype = object)\n",
    "    \n",
    "    for j in range(1,len(alpha)+1):\n",
    "        index = np.append(index,j)\n",
    "        \n",
    "    \n",
    "    alpha = np.array(np.append([\"alpha_i\"],alpha), dtype = object)\n",
    "        \n",
    "    table = [index,alpha]\n",
    "    print(tabulate([alpha], headers = index, tablefmt = fmt,numalign=\"center\",floatfmt = formato))\n",
    "    return"
   ]
  },
  {
   "cell_type": "code",
   "execution_count": 15,
   "id": "67bd236c",
   "metadata": {},
   "outputs": [],
   "source": [
    "def approx_printer_txt(alpha, fmt = \"plain\"):\n",
    "    index = np.array([\"i\"],dtype = object)\n",
    "    \n",
    "    for j in range(1,len(alpha)+1):\n",
    "        index = np.append(index,j)\n",
    "        \n",
    "    \n",
    "    alpha = np.array(np.append([\"alpha_i\"],alpha), dtype = object)\n",
    "        \n",
    "    table = [index,alpha]\n",
    "    print(tabulate([alpha], headers = index, tablefmt = fmt,numalign=\"center\",floatfmt = \".17f\"), file = f)\n",
    "    return"
   ]
  },
  {
   "cell_type": "code",
   "execution_count": 79,
   "id": "68c1ba45",
   "metadata": {},
   "outputs": [],
   "source": [
    "def eliminacaoGauss(A, y, m, print_a = False, print_y = False):\n",
    "  # 1ª parte (escalonamento na forma triangular superior)\n",
    "    for j in range(0,m):\n",
    "        k=j+1\n",
    "        if (A[j][j] == 0):\n",
    "            while (k!=m-1):\n",
    "                if (A[k][j] != 0):\n",
    "                    #Troca X\n",
    "                    aux = A[k]\n",
    "                    A[k] = A[j]\n",
    "                    A[j] = aux\n",
    "                    #Troca Y\n",
    "                    aux = y[j]\n",
    "                    y[j] = y[k]\n",
    "                    y[k] = aux\n",
    "                    print(\"Troca:\",A) \n",
    "                    break\n",
    "                elif(k==m-1):\n",
    "                    print(\"Erro: A matriz A é singular\")\n",
    "                    return\n",
    "                else:\n",
    "                    k+=1\n",
    "        \n",
    "        for i in range(j+1,m):\n",
    "            mu = -A[i][j]/A[j][j]\n",
    "            y[i] = y[i]+mu*y[j]\n",
    "            for l in range(j,m):\n",
    "                A[i][l] = A[i][l]+mu*A[j][l]\n",
    "    if print_a:\n",
    "        print(A)\n",
    "    if print_y:    \n",
    "        print(y)\n",
    "        \n",
    "# 2ª parte (substituição)\n",
    "    x= np.zeros(m)\n",
    "    \n",
    "    \n",
    "    x[m-1] = y[m-1]/A[m-1][m-1]\n",
    "    for i in range(m-2,-1, -1):\n",
    "        x[i] = y[i]\n",
    "        for k in range(i+1,m):\n",
    "            x[i] = x[i]-A[i][k]*x[k]\n",
    "        x[i] = x[i]/A[i][i]\n",
    "    return x\n"
   ]
  },
  {
   "cell_type": "markdown",
   "id": "3479b602",
   "metadata": {},
   "source": [
    "## Item 1"
   ]
  },
  {
   "cell_type": "code",
   "execution_count": 17,
   "id": "4656ce0e",
   "metadata": {},
   "outputs": [],
   "source": [
    "#Valores de x\n",
    "x_values = np.array([0.0, 0.1, 0.2, 0.3, 0.4, 0.5, 0.6, 0.7, 0.8, 0.9, 1.0])\n",
    "text = ['x','g(x)',\"g'(x)\", \"g''(x)\"]\n",
    "\n",
    "#Tabela de dados\n",
    "table_data = np.array([ x_values, g(x_values),d_g(x_values),d2_g(x_values)] , dtype = object)\n",
    "table_data = np.insert(table_data,[0],[['x'],['g(x)'],[\"g'(x)\"], [\"g''(x)\"]], axis = 1)\n",
    "\n",
    "\n",
    "#for row in table_data:\n",
    "#    print(\"{: >5} {: >20} {: >20} {: >20} {: >20} {: >20} {: >20} {: >20} {: >20} {: >20} {: >20} {: >20}\".format(*row))\n"
   ]
  },
  {
   "cell_type": "code",
   "execution_count": 18,
   "id": "75d4ba17",
   "metadata": {},
   "outputs": [
    {
     "name": "stdout",
     "output_type": "stream",
     "text": [
      "Tarefa 1, Item 1\n",
      "A tabela contendo todas as casas decimais é:\n",
      "+--------+--------------------------+--------------------------+--------------------------+--------------------------+--------------------------+--------------------------+-------------------------+-------------------------+-------------------------+-------------------------+-------------------------+\n",
      "| x      |                      0.0 |                      0.1 |                      0.2 |                      0.3 |                      0.4 |                      0.5 |                     0.6 |                     0.7 |                     0.8 |                     0.9 |                     1.0 |\n",
      "+========+==========================+==========================+==========================+==========================+==========================+==========================+=========================+=========================+=========================+=========================+=========================+\n",
      "| g(x)   |  -2520.00000000000000000 |  -1247.39999999999963620 |   -403.19999999999981810 |     88.19999999999980389 |    302.40000000000026148 |    315.00000000000000000 |   201.60000000000019327 |    37.79999999999919424 |  -100.80000000000009663 |  -138.60000000000152909 |     0.00000000000000000 |\n",
      "+--------+--------------------------+--------------------------+--------------------------+--------------------------+--------------------------+--------------------------+-------------------------+-------------------------+-------------------------+-------------------------+-------------------------+\n",
      "| g'(x)  |  15120.00000000000000000 |  10458.00000000000000000 |   6552.00000000000000000 |   3401.99999999999909051 |   1008.00000000000090949 |   -630.00000000000000000 | -1512.00000000000136424 | -1638.00000000000318323 | -1007.99999999999636202 |   378.00000000000090949 |  2520.00000000000000000 |\n",
      "+--------+--------------------------+--------------------------+--------------------------+--------------------------+--------------------------+--------------------------+-------------------------+-------------------------+-------------------------+-------------------------+-------------------------+\n",
      "| g''(x) | -50400.00000000000000000 | -42840.00000000000000000 | -35280.00000000000000000 | -27720.00000000000363798 | -20159.99999999999636202 | -12600.00000000000000000 | -5040.00000000000454747 |  2519.99999999999090505 | 10080.00000000000909495 | 17640.00000000000363798 | 25200.00000000000000000 |\n",
      "+--------+--------------------------+--------------------------+--------------------------+--------------------------+--------------------------+--------------------------+-------------------------+-------------------------+-------------------------+-------------------------+-------------------------+\n",
      "\n",
      "A Tabela em sua versão de visualizacao facilitada:\n",
      "+--------+----------+----------+----------+----------+----------+----------+---------+---------+---------+---------+---------+\n",
      "| x      |      0.0 |      0.1 |      0.2 |      0.3 |      0.4 |      0.5 |     0.6 |     0.7 |     0.8 |     0.9 |     1.0 |\n",
      "+--------+----------+----------+----------+----------+----------+----------+---------+---------+---------+---------+---------+\n",
      "| g(x)   |  -2520.0 |  -1247.4 |   -403.2 |     88.2 |    302.4 |    315.0 |   201.6 |    37.8 |  -100.8 |  -138.6 |     0.0 |\n",
      "+--------+----------+----------+----------+----------+----------+----------+---------+---------+---------+---------+---------+\n",
      "| g'(x)  |  15120.0 |  10458.0 |   6552.0 |   3402.0 |   1008.0 |   -630.0 | -1512.0 | -1638.0 | -1008.0 |   378.0 |  2520.0 |\n",
      "+--------+----------+----------+----------+----------+----------+----------+---------+---------+---------+---------+---------+\n",
      "| g''(x) | -50400.0 | -42840.0 | -35280.0 | -27720.0 | -20160.0 | -12600.0 | -5040.0 |  2520.0 | 10080.0 | 17640.0 | 25200.0 |\n",
      "+--------+----------+----------+----------+----------+----------+----------+---------+---------+---------+---------+---------+\n",
      "\n"
     ]
    }
   ],
   "source": [
    "#Imprimindo os resultados\n",
    "\n",
    "print(\"Tarefa 1, Item 1\")\n",
    "print(\"A tabela contendo todas as casas decimais é:\")\n",
    "print(tabulate(table_data[1:],headers = table_data[:1][0],tablefmt='grid',numalign=\"right\", floatfmt = \".17f\"))\n",
    "print()\n",
    "print('A Tabela em sua versão de visualizacao facilitada:')\n",
    "print(tabulate(table_data,tablefmt='grid',numalign=\"right\", floatfmt = \".1f\"))\n",
    "print()"
   ]
  },
  {
   "cell_type": "code",
   "execution_count": 19,
   "id": "02251a21",
   "metadata": {},
   "outputs": [],
   "source": [
    "#Escrevendo a tabela em um arquivo .txt\n",
    "#f = open(\"lista_1_output.txt\", \"w\")\n",
    "#for row in table_data:\n",
    "#    print(\"{: >6} {: >23} {: >23} {: >23} {: >23} {: >23} {: >23} {: >23} {: >23} {: >23} {: >23} {: >23}\".format(*row), file = f)\n",
    "#f.close()"
   ]
  },
  {
   "cell_type": "code",
   "execution_count": 20,
   "id": "04df8c11",
   "metadata": {},
   "outputs": [],
   "source": [
    "\n",
    "#Escrevendo a tabela em um arquivo .txt\n",
    "f = open(\"lista_1_output.txt\", \"w\")\n",
    "print('Tarefa 1, item 1', file = f)\n",
    "print(tabulate(table_data[1:],headers = table_data[:1][0],tablefmt='grid',numalign=\"right\", floatfmt = \".17f\"), file = f)\n",
    "print(file = f)\n",
    "f.close()"
   ]
  },
  {
   "cell_type": "markdown",
   "id": "74e7c89e",
   "metadata": {},
   "source": [
    "## Item 2"
   ]
  },
  {
   "cell_type": "code",
   "execution_count": 21,
   "id": "22ea4326",
   "metadata": {},
   "outputs": [
    {
     "name": "stdout",
     "output_type": "stream",
     "text": [
      "Tarefa 1, item 2\n",
      "Verificacao para I1 e alpha_0=0.3\n",
      "g(0.3)*g(0.2) = -35562.2399999999\n",
      "alpha_1 = 0.27407407407407414\n",
      "\n",
      "Verificacao para I2 e alpha_0=0.7\n",
      "g(0.7)*g(0.8) = -3810.2399999999225\n",
      "alpha_1 = 0.7230769230769225\n",
      "\n"
     ]
    }
   ],
   "source": [
    "# Contas da verificação I1 = [0.2, 0.3] e α0 = 0.3:\n",
    "print('Tarefa 1, item 2')\n",
    "print('Verificacao para I1 e alpha_0=0.3')\n",
    "print('g(0.3)*g(0.2) =', g(0.3)*g(0.2))\n",
    "print('alpha_1 =', 0.3-g(0.3)/d_g(0.3))\n",
    "print()\n",
    "\n",
    "# Contas da verificação I2 = [0.7, 0.8] e α0 = 0.7:\n",
    "print('Verificacao para I2 e alpha_0=0.7')\n",
    "print('g(0.7)*g(0.8) =', g(0.7)*g(0.8))\n",
    "print('alpha_1 =', 0.7-g(0.7)/d_g(0.7))\n",
    "print()\n"
   ]
  },
  {
   "cell_type": "code",
   "execution_count": 22,
   "id": "6ed771b5",
   "metadata": {},
   "outputs": [],
   "source": [
    "#Escrevendo esses resultados em um arquivo .txt\n",
    "f = open(\"lista_1_output.txt\", \"a\")\n",
    "print('Tarefa 1, item 2', file = f)\n",
    "print('Verificacao para I1 e alpha_0=0.3', file = f)\n",
    "print('g(0.3)*g(0.2) =', g(0.3)*g(0.2), file = f)\n",
    "print('alpha_1 =', 0.3-g(0.3)/d_g(0.3), file = f)\n",
    "print( file = f)\n",
    "print('Verificacao para I2 e alpha_0=0.7', file = f)\n",
    "print('g(0.7)*g(0.8) =', g(0.7)*g(0.8), file = f)\n",
    "print('alpha_1 =', 0.7-g(0.7)/d_g(0.7), file = f)\n",
    "print(file = f)\n",
    "f.close()"
   ]
  },
  {
   "cell_type": "markdown",
   "id": "05f294ad",
   "metadata": {},
   "source": [
    "## Item 3"
   ]
  },
  {
   "cell_type": "code",
   "execution_count": 23,
   "id": "3c961d80",
   "metadata": {},
   "outputs": [],
   "source": [
    "#Teste\n",
    "\n",
    "#approx_printer(newton_method(0.15,0.3,0.15,1000,1e-10,g,d_g)[1])\n",
    "\n"
   ]
  },
  {
   "cell_type": "code",
   "execution_count": 24,
   "id": "72b738df",
   "metadata": {},
   "outputs": [],
   "source": [
    "#Calculando x*_1:\n",
    "#Dados:\n",
    "a = 0.2\n",
    "b = 0.3\n",
    "alpha_0 = 0.3\n",
    "n_max = 1000\n",
    "epsilon = 1e-10\n",
    "\n",
    "#Utilizando o método de Newton:\n",
    "x_1 = newton_method(a,b,alpha_0,n_max,epsilon,g,d_g)\n",
    "\n",
    "\n",
    "#Calculando x*_2:\n",
    "#Dados\n",
    "a = 0.7\n",
    "b = 0.8\n",
    "alpha_0 = 0.7\n",
    "\n",
    "#Utilizando o método de Newton:\n",
    "x_2 = newton_method(a,b,alpha_0,n_max,epsilon,g,d_g)\n",
    "\n",
    "x_3 = 1\n",
    "#Calculando x*_2:\n",
    "#Dados\n",
    "#a = 0.9\n",
    "#b = 1\n",
    "#alpha_0 = 1\n",
    "\n",
    "#Utilizando o método de Newton:\n",
    "#x_3 = newton_method(a,b,alpha_0,n_max,epsilon,g,d_g)\n",
    "\n",
    "#Imprimindo a raíz encontrada e todas as aproximações:\n",
    "#print(\"x*_3 = \", x_3[0])\n",
    "#print()\n",
    "#approx_printer(x_3[1])"
   ]
  },
  {
   "cell_type": "code",
   "execution_count": 25,
   "id": "84e65a88",
   "metadata": {},
   "outputs": [
    {
     "name": "stdout",
     "output_type": "stream",
     "text": [
      "A raiz x^*_1 encontrada é 0.27639320225002106 \n",
      "A tabela contendo as aproximacoes que encontramos ao longo das iteracoes é:\n",
      "+---------+---------------------+---------------------+---------------------+---------------------+\n",
      "| i       |          1          |          2          |          3          |          4          |\n",
      "+=========+=====================+=====================+=====================+=====================+\n",
      "| alpha_i | 0.27407407407407414 | 0.27637398946386771 | 0.27639320091463382 | 0.27639320225002106 |\n",
      "+---------+---------------------+---------------------+---------------------+---------------------+\n",
      "\n",
      "A raiz x^*_2 encontrada é 0.72360679774977421 \n",
      "A tabela contendo as aproximacoes que encontramos ao longo das iteracoes é:\n",
      "+---------+---------------------+---------------------+---------------------+\n",
      "| i       |          1          |          2          |          3          |\n",
      "+=========+=====================+=====================+=====================+\n",
      "| alpha_i | 0.72307692307692251 | 0.72360641270775283 | 0.72360679774977421 |\n",
      "+---------+---------------------+---------------------+---------------------+\n",
      "\n"
     ]
    }
   ],
   "source": [
    "#imprimindo os resultados:\n",
    "\n",
    "print('A raiz x^*_1 encontrada é %.17f ' % x_1[0])\n",
    "print('A tabela contendo as aproximacoes que encontramos ao longo das iteracoes é:')\n",
    "approx_printer(x_1[1], \"grid\")\n",
    "print()\n",
    "print('A raiz x^*_2 encontrada é %.17f ' % x_2[0])\n",
    "print('A tabela contendo as aproximacoes que encontramos ao longo das iteracoes é:')\n",
    "approx_printer(x_2[1], \"grid\")\n",
    "print()"
   ]
  },
  {
   "cell_type": "code",
   "execution_count": 26,
   "id": "e0d88e24",
   "metadata": {},
   "outputs": [],
   "source": [
    "#Escrevendo em um arquivo .txt:\n",
    "\n",
    "f = open(\"lista_1_output.txt\", \"a\")\n",
    "print('Tarefa 1, item 3', file = f)\n",
    "print('A raiz x^*_1 encontrada é %.17f ' % x_1[0], file = f)\n",
    "print('A tabela contendo as aproximacoes que encontramos ao longo das iteracoes é:', file = f)\n",
    "approx_printer_txt(x_1[1], \"grid\")\n",
    "print(file = f)\n",
    "print('A raiz x^*_2 encontrada é %.17f ' % x_2[0], file = f)\n",
    "print('A tabela contendo as aproximacoes que encontramos ao longo das iteracoes é:', file = f)\n",
    "approx_printer_txt(x_2[1], \"grid\")\n",
    "print(file = f)\n",
    "f.close()"
   ]
  },
  {
   "cell_type": "markdown",
   "id": "07e0c48b",
   "metadata": {},
   "source": [
    "## Item 4\n",
    "\n",
    "$$h = \\frac{b-a}{m}\\leq \\sqrt{\\frac{12\\varepsilon}{(b-a) max|f^{(2)}|}}$$\n",
    "\n",
    "$$ \\frac{b-a}{\\sqrt{\\frac{12\\varepsilon}{(b-a) max|f^{(2)}|}}}\\leq m $$"
   ]
  },
  {
   "cell_type": "code",
   "execution_count": 27,
   "id": "43ef8b89",
   "metadata": {},
   "outputs": [],
   "source": [
    "#Calculando max f^(2)(x):\n",
    "set_max = [np.absolute(d2_f1(0)),np.absolute(d2_f1(x_1[0])),np.absolute(d2_f1(x_2[0])),np.absolute(d2_f1(x_3)),np.absolute(d2_f1(1))]\n",
    "max_d2_f = np.amax(set_max)\n",
    "\n",
    "\n",
    "#Calculando m_min:\n",
    "a = 0\n",
    "b = 1\n",
    "epsilon = 1e-8\n",
    "m_min = (b-a)*np.power(np.sqrt((12*epsilon)/((b-a)*max_d2_f)),-1)\n",
    "m_min = int(np.ceil(m_min))\n",
    "h_max = np.sqrt((12*epsilon)/((b-a)*max_d2_f))\n",
    "\n",
    "\n",
    "#Calculando T_m:\n",
    "t_m = trapezoidal_rule(0,1,m_min,f1)\n",
    "\n",
    "\n",
    "#Verificando se satisfaz a precisão:\n",
    "erro_int = np.power(b-a,3)/(12 * np.power(float(m_min),2)) * np.absolute(max_d2_f) \n",
    "verif = np.absolute(t_m-1)\n",
    "\n"
   ]
  },
  {
   "cell_type": "code",
   "execution_count": 28,
   "id": "1fc67f1a",
   "metadata": {},
   "outputs": [
    {
     "name": "stdout",
     "output_type": "stream",
     "text": [
      "O valor maximo do módula da segunda derivada de f(x) e 210.0\n",
      "O valor maximo do tamanho do intervalo e h_max = 0.00002390457218669\n",
      "O valor minimo de subdivisoes do intervalo e m_min = 41834\n",
      "O valor de T_m utilizando m_min e 0.99999999999998845\n",
      "O módulo do desvio do valor exato da intergral e 1.1546319456101628e-14\n",
      "O erro de integracao para funcoes suaves e 9.999522559938847e-09\n",
      "T_m satisfaz a precião e o erro de integração? True\n",
      "\n"
     ]
    }
   ],
   "source": [
    "#Imprimindo os resultados\n",
    "\n",
    "print(\"O valor maximo do módula da segunda derivada de f(x) e %.1f\" % max_d2_f)\n",
    "print(\"O valor maximo do tamanho do intervalo e h_max = %.17f\" % h_max)\n",
    "print(\"O valor minimo de subdivisoes do intervalo e m_min = %.f\" % m_min)\n",
    "print(\"O valor de T_m utilizando m_min e %.17f\" % t_m)\n",
    "print(\"O módulo do desvio do valor exato da intergral e\",verif)\n",
    "print(\"O erro de integracao para funcoes suaves e\", erro_int)\n",
    "print(\"T_m satisfaz a precião e o erro de integração?\", verif <= erro_int and erro_int <= epsilon )\n",
    "print()"
   ]
  },
  {
   "cell_type": "code",
   "execution_count": 29,
   "id": "302363db",
   "metadata": {},
   "outputs": [],
   "source": [
    "#Imprimindo os resultados em um aqruivo .txt:\n",
    "\n",
    "f = open(\"lista_1_output.txt\", \"a\")\n",
    "print('Tarefa 1, item 4', file = f)\n",
    "print(\"O valor maximo do módula da segunda derivada de f(x) e %.1f\" % max_d2_f, file = f)\n",
    "print(\"O valor maximo do tamanho do intervalo e h_max = %.17f\" % h_max, file = f)\n",
    "print(\"O valor minimo de subdivisoes do intervalo e m_min = %.f\" % m_min, file = f)\n",
    "print(\"O valor de T_m utilizando m_min e %.17f\" % t_m, file = f)\n",
    "print(\"O módulo do desvio do valor exato da intergral e\",verif, file = f)\n",
    "print(\"O erro de integracao para funcoes suaves e\", erro_int, file = f)\n",
    "print(\"T_m satisfaz a precião e o erro de integração?\", verif <= erro_int and erro_int <= epsilon , file = f)\n",
    "print( file = f)\n",
    "f.close()\n"
   ]
  },
  {
   "cell_type": "markdown",
   "id": "0b91cde1",
   "metadata": {},
   "source": [
    "# Tarefa 2"
   ]
  },
  {
   "cell_type": "markdown",
   "id": "7228230c",
   "metadata": {},
   "source": [
    "## Item 1"
   ]
  },
  {
   "cell_type": "code",
   "execution_count": 30,
   "id": "03e6b005",
   "metadata": {},
   "outputs": [],
   "source": [
    "#Dados\n",
    "a = 0\n",
    "b = 1\n",
    "n_max = 100000\n",
    "epsilon = 1e-10\n",
    "alpha_0 = 0.5\n",
    "\n",
    "#Método de Newton\n",
    "stn_time = time.time()\n",
    "raiz_Newton = newton_method(a,b,alpha_0,n_max,epsilon,fao,f1)\n",
    "newton_time = time.time() - stn_time\n",
    "\n",
    "#Método da bisseção\n",
    "stb_time = time.time()\n",
    "raiz_bisection = bisection_method(a,b,n_max,epsilon,fao)\n",
    "bisection_time = time.time() - stb_time"
   ]
  },
  {
   "cell_type": "code",
   "execution_count": 31,
   "id": "33870b54",
   "metadata": {},
   "outputs": [
    {
     "name": "stdout",
     "output_type": "stream",
     "text": [
      "Tarefa 2, item 1\n",
      "A raiz obtida pelo metodo de Newton e tau = 0.36411608653621602\n",
      "O tempo para gerar esta raiz utilizando o metodo de Newton foi: 0.620924711227417 segundos\n",
      "As aproximacoes encontradas ao longo das iteracoes sao:\n",
      "+---------+---------------------+---------------------+---------------------+---------------------+\n",
      "| i       |          1          |          2          |          3          |          4          |\n",
      "+=========+=====================+=====================+=====================+=====================+\n",
      "| alpha_i | 0.33333333416666722 | 0.36398809523809539 | 0.36411608001959911 | 0.36411608653621602 |\n",
      "+---------+---------------------+---------------------+---------------------+---------------------+\n",
      "\n",
      "A raiz obtida pelo metodo de bissecao e tau = 0.36411608662456274\n",
      "O tempo para gerar esta raiz utilizando o metodo de Newton foi: 6.801862478256226 segundos\n",
      "As aproximacoes encontradas ao longo das iteracoes sao:\n",
      "+---------+---------------------+---------------------+---------------------+---------------------+---------------------+---------------------+---------------------+---------------------+---------------------+---------------------+---------------------+---------------------+---------------------+---------------------+---------------------+---------------------+---------------------+---------------------+---------------------+---------------------+---------------------+---------------------+---------------------+---------------------+---------------------+---------------------+---------------------+---------------------+---------------------+\n",
      "| i       |          1          |          2          |          3          |          4          |          5          |          6          |          7          |          8          |          9          |         10          |         11          |         12          |         13          |         14          |         15          |         16          |         17          |         18          |         19          |         20          |         21          |         22          |         23          |         24          |         25          |         26          |         27          |         28          |         29          |\n",
      "+=========+=====================+=====================+=====================+=====================+=====================+=====================+=====================+=====================+=====================+=====================+=====================+=====================+=====================+=====================+=====================+=====================+=====================+=====================+=====================+=====================+=====================+=====================+=====================+=====================+=====================+=====================+=====================+=====================+=====================+\n",
      "| alpha_i | 0.25000000000000000 | 0.37500000000000000 | 0.31250000000000000 | 0.34375000000000000 | 0.35937500000000000 | 0.36718750000000000 | 0.36328125000000000 | 0.36523437500000000 | 0.36425781250000000 | 0.36376953125000000 | 0.36401367187500000 | 0.36413574218750000 | 0.36407470703125000 | 0.36410522460937500 | 0.36412048339843750 | 0.36411285400390625 | 0.36411666870117188 | 0.36411476135253906 | 0.36411571502685547 | 0.36411619186401367 | 0.36411595344543457 | 0.36411607265472412 | 0.36411613225936890 | 0.36411610245704651 | 0.36411608755588531 | 0.36411608010530472 | 0.36411608383059502 | 0.36411608569324017 | 0.36411608662456274 |\n",
      "+---------+---------------------+---------------------+---------------------+---------------------+---------------------+---------------------+---------------------+---------------------+---------------------+---------------------+---------------------+---------------------+---------------------+---------------------+---------------------+---------------------+---------------------+---------------------+---------------------+---------------------+---------------------+---------------------+---------------------+---------------------+---------------------+---------------------+---------------------+---------------------+---------------------+\n",
      "\n"
     ]
    }
   ],
   "source": [
    "#Imprimindo os resultados\n",
    "\n",
    "print('Tarefa 2, item 1')\n",
    "print('A raiz obtida pelo metodo de Newton e tau = %.17f' % raiz_Newton[0])\n",
    "print(\"O tempo para gerar esta raiz utilizando o metodo de Newton foi: %s segundos\" % (newton_time))\n",
    "print('As aproximacoes encontradas ao longo das iteracoes sao:')\n",
    "approx_printer(raiz_Newton[1], \"grid\")\n",
    "print()\n",
    "print('A raiz obtida pelo metodo de bissecao e tau = %.17f' % raiz_bisection[0])\n",
    "print(\"O tempo para gerar esta raiz utilizando o metodo de Newton foi: %s segundos\" % (bisection_time))\n",
    "print('As aproximacoes encontradas ao longo das iteracoes sao:')\n",
    "approx_printer(raiz_bisection[1], \"grid\")\n",
    "print()"
   ]
  },
  {
   "cell_type": "code",
   "execution_count": 32,
   "id": "c5ac09b7",
   "metadata": {},
   "outputs": [],
   "source": [
    "#Imprimindo em um arquivo .txt\n",
    "f = open(\"lista_1_output.txt\", \"a\")\n",
    "print('Tarefa 2, item 1', file = f)\n",
    "print('A raiz obtida pelo metodo de Newton e tau = %.17f' % raiz_Newton[0], file = f)\n",
    "print(\"O tempo para gerar esta raiz utilizando o metodo de Newton foi: %s segundos\" % (newton_time), file = f)\n",
    "print('As aproximacoes encontradas ao longo das iteracoes sao:', file = f)\n",
    "approx_printer_txt(raiz_Newton[1], \"grid\")\n",
    "print( file = f)\n",
    "print('A raiz obtida pelo metodo de bissecao e tau = %.17f' % raiz_bisection[0], file = f)\n",
    "print(\"O tempo para gerar esta raiz utilizando o metodo de Newton foi: %s segundos\" % (bisection_time), file = f)\n",
    "print('As aproximacoes encontradas ao longo das iteracoes sao:', file = f)\n",
    "approx_printer_txt(raiz_bisection[1], \"grid\")\n",
    "print( file = f)\n",
    "f.close()"
   ]
  },
  {
   "cell_type": "markdown",
   "id": "1d88b764",
   "metadata": {},
   "source": [
    "# Tarefa 3\n"
   ]
  },
  {
   "cell_type": "markdown",
   "id": "069b1a63",
   "metadata": {},
   "source": [
    "## Item 1"
   ]
  },
  {
   "cell_type": "code",
   "execution_count": 62,
   "id": "38a34243",
   "metadata": {
    "scrolled": false
   },
   "outputs": [
    {
     "name": "stdout",
     "output_type": "stream",
     "text": [
      "[['x*h', 1, 2, 4], ['T', 0.16770781250000003, 0.170825, 0.18320000000000003], ['E', 0.0010411458333333679, 0.004158333333333347, 0.016533333333333372]]\n"
     ]
    }
   ],
   "source": [
    "#Dados\n",
    "a = 0\n",
    "b= 1\n",
    "s = 5\n",
    "table_k = []\n",
    "#Laço percorrendo os valores de k desejados\n",
    "for k in range(3,10):\n",
    "    #Subdivisões iniciais\n",
    "    m_0 = s*np.power(2,k-1)\n",
    "    #Criando a tabela para armazenar o resultado\n",
    "    table_TE = [['x*h'],['T'],['E']]\n",
    "    #Valor exato da integral para calcularmos o erro\n",
    "    valor_integral = int_f_Tarefa_3(k,a,b)\n",
    "    #Laço para calcular T(h), T(2h), ..., T(2^{k-1}h)\n",
    "    for i in range(0,k):\n",
    "        m = int(m_0/np.power(2,i))\n",
    "        t_m = trapezoidal_rule_Tarefa_3(a,b,m,k,f_Tarefa_3)\n",
    "        table_TE[0].append(np.power(2,i))\n",
    "        table_TE[1].append(t_m)\n",
    "        table_TE[2].append(np.absolute(t_m-valor_integral))\n",
    "\n",
    "        #table_TE.append()\n",
    "    table_k.append(table_TE)\n",
    "    \n",
    "    \n",
    "#print(tabulate((table_k[0])[1:], headers = (table_k[0])[0], tablefmt = \"grid\",numalign=\"center\",floatfmt = \".17f\"))    \n",
    "\n"
   ]
  },
  {
   "cell_type": "code",
   "execution_count": 86,
   "id": "dae925f5",
   "metadata": {},
   "outputs": [
    {
     "name": "stdout",
     "output_type": "stream",
     "text": [
      "Tarefa 3, item 1\n",
      "Tabela para k = 3 :\n",
      "+-------+---------------------+---------------------+---------------------+\n",
      "| x*h   |          1          |          2          |          4          |\n",
      "+=======+=====================+=====================+=====================+\n",
      "| T     | 0.16770781250000003 | 0.17082500000000000 | 0.18320000000000003 |\n",
      "+-------+---------------------+---------------------+---------------------+\n",
      "| E     | 0.00104114583333337 | 0.00415833333333335 | 0.01653333333333337 |\n",
      "+-------+---------------------+---------------------+---------------------+\n",
      "\n",
      "Tabela para k = 4 :\n",
      "+-------+---------------------+---------------------+---------------------+---------------------+\n",
      "| x*h   |          1          |          2          |          4          |          8          |\n",
      "+=======+=====================+=====================+=====================+=====================+\n",
      "| T     | 0.12536446942138679 | 0.12645651171875005 | 0.13080425000000004 | 0.14787200000000006 |\n",
      "+-------+---------------------+---------------------+---------------------+---------------------+\n",
      "| E     | 0.00036446942138679 | 0.00145651171875005 | 0.00580425000000004 | 0.02287200000000006 |\n",
      "+-------+---------------------+---------------------+---------------------+---------------------+\n",
      "\n",
      "Tabela para k = 5 :\n",
      "+-------+---------------------+---------------------+---------------------+---------------------+---------------------+\n",
      "| x*h   |          1          |          2          |          4          |          8          |         16          |\n",
      "+=======+=====================+=====================+=====================+=====================+=====================+\n",
      "| T     | 0.10011717041206357 | 0.10046847668454746 | 0.10187063280664066 | 0.10743049850000003 | 0.12891161600000001 |\n",
      "+-------+---------------------+---------------------+---------------------+---------------------+---------------------+\n",
      "| E     | 0.00011717041206356 | 0.00046847668454746 | 0.00187063280664065 | 0.00743049850000002 | 0.02891161600000000 |\n",
      "+-------+---------------------+---------------------+---------------------+---------------------+---------------------+\n",
      "\n",
      "Tabela para k = 6 :\n",
      "+-------+---------------------+---------------------+---------------------+---------------------+---------------------+---------------------+\n",
      "| x*h   |          1          |          2          |          4          |          8          |         16          |         32          |\n",
      "+=======+=====================+=====================+=====================+=====================+=====================+=====================+\n",
      "| T     | 0.08336913852702582 | 0.08347652893765690 | 0.08390571333800644 | 0.08561643484216314 | 0.09236431962500002 | 0.11791385600000003 |\n",
      "+-------+---------------------+---------------------+---------------------+---------------------+---------------------+---------------------+\n",
      "| E     | 0.00003580519369249 | 0.00014319560432358 | 0.00057238000467311 | 0.00228310150882981 | 0.00903098629166670 | 0.03458052266666670 |\n",
      "+-------+---------------------+---------------------+---------------------+---------------------+---------------------+---------------------+\n",
      "\n",
      "Tabela para k = 7 :\n",
      "+-------+---------------------+---------------------+---------------------+---------------------+---------------------+---------------------+---------------------+\n",
      "| x*h   |          1          |          2          |          4          |          8          |         16          |         32          |         64          |\n",
      "+=======+=====================+=====================+=====================+=====================+=====================+=====================+=====================+\n",
      "| T     | 0.07143915062836718 | 0.07147088550053116 | 0.07159778409453380 | 0.07210472501809205 | 0.07412208844891031 | 0.08202860761145003 | 0.11125767249920003 |\n",
      "+-------+---------------------+---------------------+---------------------+---------------------+---------------------+---------------------+---------------------+\n",
      "| E     | 0.00001057919979576 | 0.00004231407195973 | 0.00016921266596237 | 0.00067615358952063 | 0.00269351702033889 | 0.01060003618287861 | 0.03982910107062861 |\n",
      "+-------+---------------------+---------------------+---------------------+---------------------+---------------------+---------------------+---------------------+\n",
      "\n",
      "Tabela para k = 8 :\n",
      "+-------+---------------------+---------------------+---------------------+---------------------+---------------------+---------------------+---------------------+---------------------+\n",
      "| x*h   |          1          |          2          |          4          |          8          |         16          |         32          |         64          |         128         |\n",
      "+=======+=====================+=====================+=====================+=====================+=====================+=====================+=====================+=====================+\n",
      "| T     | 0.06250305173521263 | 0.06251220666965965 | 0.06254882234008610 | 0.06269521997545556 | 0.06327977178546318 | 0.06560148723758254 | 0.07463248563796251 | 0.10713112616960002 |\n",
      "+-------+---------------------+---------------------+---------------------+---------------------+---------------------+---------------------+---------------------+---------------------+\n",
      "| E     | 0.00000305173521263 | 0.00001220666965965 | 0.00004882234008610 | 0.00019521997545556 | 0.00077977178546318 | 0.00310148723758254 | 0.01213248563796251 | 0.04463112616960002 |\n",
      "+-------+---------------------+---------------------+---------------------+---------------------+---------------------+---------------------+---------------------+---------------------+\n",
      "\n",
      "Tabela para k = 9 :\n",
      "+-------+---------------------+---------------------+---------------------+---------------------+---------------------+---------------------+---------------------+---------------------+---------------------+\n",
      "| x*h   |          1          |          2          |          4          |          8          |         16          |         32          |         64          |         128         |         256         |\n",
      "+=======+=====================+=====================+=====================+=====================+=====================+=====================+=====================+=====================+=====================+\n",
      "| T     | 0.05555642021815815 | 0.05555901418063416 | 0.05556938965057970 | 0.05561088545203857 | 0.05577677146949183 | 0.05643876466321714 | 0.05906218608866798 | 0.06917931893537732 | 0.10453748730626050 |\n",
      "+-------+---------------------+---------------------+---------------------+---------------------+---------------------+---------------------+---------------------+---------------------+---------------------+\n",
      "| E     | 0.00000086466260260 | 0.00000345862507861 | 0.00001383409502415 | 0.00005532989648302 | 0.00022121591393628 | 0.00088320910766158 | 0.00350663053311243 | 0.01362376337982177 | 0.04898193175070495 |\n",
      "+-------+---------------------+---------------------+---------------------+---------------------+---------------------+---------------------+---------------------+---------------------+---------------------+\n",
      "\n"
     ]
    }
   ],
   "source": [
    "#Imprimindo os resultados\n",
    "\n",
    "print('Tarefa 3, item 1')\n",
    "for i,t in enumerate(table_k):\n",
    "    print(\"Tabela para k = %.0f :\" % (i+3))\n",
    "    print(tabulate(t[1:], headers = t[0], tablefmt = \"grid\", numalign = \"center\", floatfmt = \".17f\"))\n",
    "    print()"
   ]
  },
  {
   "cell_type": "code",
   "execution_count": 35,
   "id": "a4796750",
   "metadata": {},
   "outputs": [],
   "source": [
    "#Imprimindo em um arquivo .txt\n",
    "f = open(\"lista_1_output.txt\", \"a\")\n",
    "print('Tarefa 3, item 1', file = f)\n",
    "for i,t in enumerate(table_k):\n",
    "    print(\"Tavela para k = %.0f :\" % (i+3), file = f)\n",
    "    print(tabulate(t[1:], headers = t[0], tablefmt = \"grid\", numalign = \"center\", floatfmt = \".17f\"), file = f)\n",
    "    print(file = f)\n",
    "f.close()"
   ]
  },
  {
   "cell_type": "markdown",
   "id": "95128bcc",
   "metadata": {},
   "source": [
    "## Item 2"
   ]
  },
  {
   "cell_type": "code",
   "execution_count": 124,
   "id": "750f09be",
   "metadata": {},
   "outputs": [
    {
     "name": "stdout",
     "output_type": "stream",
     "text": [
      "[array([1, 1, 1]), [4, 16, 64], [16, 256, 4096]]\n",
      "[array([1, 1, 1, 1]), [4, 16, 64, 256], [16, 256, 4096, 65536], [36, 1296, 46656, 1679616]]\n",
      "[array([1, 1, 1, 1, 1]), [4, 16, 64, 256, 1024], [16, 256, 4096, 65536, 1048576], [36, 1296, 46656, 1679616, 60466176], [64, 4096, 262144, 16777216, 1073741824]]\n",
      "[array([1, 1, 1, 1, 1, 1]), [4, 16, 64, 256, 1024, 4096], [16, 256, 4096, 65536, 1048576, 16777216], [36, 1296, 46656, 1679616, 60466176, -2118184960], [64, 4096, 262144, 16777216, 1073741824, 0], [100, 10000, 1000000, 100000000, 1410065408, -727379968]]\n",
      "[array([1, 1, 1, 1, 1, 1, 1]), [4, 16, 64, 256, 1024, 4096, 16384], [16, 256, 4096, 65536, 1048576, 16777216, 268435456], [36, 1296, 46656, 1679616, 60466176, -2118184960, 1054752768], [64, 4096, 262144, 16777216, 1073741824, 0, 0], [100, 10000, 1000000, 100000000, 1410065408, -727379968, 276447232], [144, 20736, 2985984, 429981696, 1787822080, -251658240, -1879048192]]\n",
      "[array([1, 1, 1, 1, 1, 1, 1, 1]), [4, 16, 64, 256, 1024, 4096, 16384, 65536], [16, 256, 4096, 65536, 1048576, 16777216, 268435456, 0], [36, 1296, 46656, 1679616, 60466176, -2118184960, 1054752768, -683606016], [64, 4096, 262144, 16777216, 1073741824, 0, 0, 0], [100, 10000, 1000000, 100000000, 1410065408, -727379968, 276447232, 1874919424], [144, 20736, 2985984, 429981696, 1787822080, -251658240, -1879048192, 0], [196, 38416, 7529536, 1475789056, 1491846144, 344068096, -1282129920, 2105606144]]\n",
      "[array([1, 1, 1, 1, 1, 1, 1, 1, 1]), [4, 16, 64, 256, 1024, 4096, 16384, 65536, 262144], [16, 256, 4096, 65536, 1048576, 16777216, 268435456, 0, 0], [36, 1296, 46656, 1679616, 60466176, -2118184960, 1054752768, -683606016, 1159987200], [64, 4096, 262144, 16777216, 1073741824, 0, 0, 0, 0], [100, 10000, 1000000, 100000000, 1410065408, -727379968, 276447232, 1874919424, -1486618624], [144, 20736, 2985984, 429981696, 1787822080, -251658240, -1879048192, 0, 0], [196, 38416, 7529536, 1475789056, 1491846144, 344068096, -1282129920, 2105606144, 381943808], [256, 65536, 16777216, 0, 0, 0, 0, 0, 0]]\n"
     ]
    }
   ],
   "source": [
    "#Laço sobre todos os valore de k\n",
    "x = []\n",
    "for k in range(3,10):\n",
    "    y = table_k[k-3][2][1:]\n",
    "#Gerando a matriz A:\n",
    "    a = [np.ones(k, dtype = int)]\n",
    "    for i in range(1,k):\n",
    "        a.append([])\n",
    "        for j in range(1,k+1):\n",
    "            a[i].append(np.power(i*2,2*j))\n",
    "    print(a)\n",
    "#eliminação de Gauss\n",
    "    x.append(eliminacaoGauss(a, np.ones(k, dtype = int), k))\n",
    "\n"
   ]
  },
  {
   "cell_type": "code",
   "execution_count": 106,
   "id": "497d99bc",
   "metadata": {},
   "outputs": [
    {
     "name": "stdout",
     "output_type": "stream",
     "text": [
      "Tarefa 3, item 2\n",
      "Resultado do sistema para k = 3:\n",
      "1.3125 -0.328125 0.015625 \n",
      "\n",
      "Resultado do sistema para k = 4:\n",
      "1.3402777777777777 -0.3645833333333333 0.024739583333333332 -0.00043402777777777775 \n",
      "\n",
      "Resultado do sistema para k = 5:\n",
      "1.355902777777778 -0.3855251736111111 0.030436197916666668 -0.0008205837673611111 6.781684027777777e-06 \n",
      "\n",
      "Resultado do sistema para k = 6:\n",
      "1.3208535865704578 -0.33912071515831804 0.018402436275914088 -0.00013420746678332137 -1.1799454468569284e-06 7.972417648155672e-08 \n",
      "\n",
      "Resultado do sistema para k = 7:\n",
      "1.259956651154752 -0.262413912941745 0.002462706216512135 -5.9977271309931785e-06 4.193295416420871e-07 -7.641310391748624e-09 1.4160938076131891e-07 \n",
      "\n",
      "Resultado do sistema para k = 8:\n",
      "1.260443439360777 -0.26303935556051566 0.0026022539984006587 -6.865750311439659e-06 4.011799805584643e-07 -3.8451401160274936e-09 1.4009306011968768e-07 -9.476251158884568e-09 \n",
      "\n",
      "Resultado do sistema para k = 9:\n",
      "1.2220546631286588 -0.22290773930934815 0.0008522474373644849 2.6750002023308052e-06 5.285516319385106e-07 -3.4681449042999104e-07 1.494204528566153e-07 -9.781081660800819e-07 -1.1993063059000854e-06 \n",
      "\n"
     ]
    }
   ],
   "source": [
    "#Imprimindo os resultados\n",
    "print('Tarefa 3, item 2')\n",
    "for k,i in enumerate(x):\n",
    "    print(\"Resultado do sistema para k = %.0f:\" % (k+3))\n",
    "    for j in i:\n",
    "        print(j, end = \" \")"
   ]
  },
  {
   "cell_type": "code",
   "execution_count": 107,
   "id": "63297edc",
   "metadata": {},
   "outputs": [],
   "source": [
    "#Imprimindo em um arquivo .txt\n",
    "f = open(\"lista_1_output.txt\", \"a\")\n",
    "print('Tarefa 3, item 2', file = f)\n",
    "for k,i in enumerate(x):\n",
    "    print(\"Resultado do sistema para k = %.0f:\" % (k+3), file = f)\n",
    "    for j in i:\n",
    "        print(j, end = \" \", file = f)\n",
    "    print(\"\\n\", file = f)\n",
    "    \n",
    "f.close()"
   ]
  },
  {
   "cell_type": "markdown",
   "id": "6e6327c4",
   "metadata": {},
   "source": [
    "## Item 3"
   ]
  },
  {
   "cell_type": "code",
   "execution_count": 125,
   "id": "36823d54",
   "metadata": {},
   "outputs": [
    {
     "name": "stdout",
     "output_type": "stream",
     "text": [
      "-21000.0\n",
      "-106666.66666666664\n",
      "-751957.6719576718\n",
      "-5387785.500270431\n",
      "-38484046.31843401\n",
      "-387962029.4276546\n",
      "-3519784743.966705\n"
     ]
    }
   ],
   "source": [
    "for k in range(3,10):\n",
    "    print(b4(x[k-3][1],0,1,k,d3f_Tarefa_3))"
   ]
  },
  {
   "cell_type": "code",
   "execution_count": null,
   "id": "6564999b",
   "metadata": {},
   "outputs": [],
   "source": []
  }
 ],
 "metadata": {
  "kernelspec": {
   "display_name": "Python 3 (ipykernel)",
   "language": "python",
   "name": "python3"
  },
  "language_info": {
   "codemirror_mode": {
    "name": "ipython",
    "version": 3
   },
   "file_extension": ".py",
   "mimetype": "text/x-python",
   "name": "python",
   "nbconvert_exporter": "python",
   "pygments_lexer": "ipython3",
   "version": "3.9.12"
  }
 },
 "nbformat": 4,
 "nbformat_minor": 5
}
