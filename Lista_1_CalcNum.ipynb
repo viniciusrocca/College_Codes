{
 "cells": [
  {
   "cell_type": "code",
   "execution_count": 1,
   "id": "6331a58f",
   "metadata": {},
   "outputs": [],
   "source": [
    "from scipy.optimize import curve_fit\n",
    "import numpy as np\n",
    "import matplotlib\n",
    "from matplotlib import pyplot as plt\n",
    "%matplotlib inline\n",
    "from tabulate import tabulate\n",
    "import time"
   ]
  },
  {
   "cell_type": "markdown",
   "id": "c580e025",
   "metadata": {},
   "source": [
    "# Tarefa 1"
   ]
  },
  {
   "cell_type": "code",
   "execution_count": 2,
   "id": "bfca47f3",
   "metadata": {},
   "outputs": [],
   "source": [
    "def trapezoidal_rule(a,b,m,func):\n",
    "    h = (b-a)/m\n",
    "    t_m = 0.5*(func(a)+func(b))\n",
    "    for i in range(1,m):\n",
    "        x_i = a + i*h\n",
    "        t_m = t_m + func(x_i)\n",
    "        \n",
    "    return t_m*h"
   ]
  },
  {
   "cell_type": "code",
   "execution_count": 3,
   "id": "f586843a",
   "metadata": {},
   "outputs": [],
   "source": [
    "#Esta função calcula o valor de g(x) no ponto x\n",
    "def g(x):\n",
    "    return 2520*(5*np.power(x,3) - 10*np.power(x,2) + 6*x - 1)"
   ]
  },
  {
   "cell_type": "code",
   "execution_count": 4,
   "id": "1fefaaf7",
   "metadata": {},
   "outputs": [],
   "source": [
    "#Esta função calcula o valor da primeira derivada de g(x) no ponto x\n",
    "def d_g(x):\n",
    "    return 2520*(15*np.power(x,2) - 20*x + 6)"
   ]
  },
  {
   "cell_type": "code",
   "execution_count": 5,
   "id": "f6401ecc",
   "metadata": {},
   "outputs": [],
   "source": [
    "#Esta função calcula o valor da segunda derivada de g(x) no ponto x\n",
    "def d2_g(x):\n",
    "    return 25200*(3*x-2)"
   ]
  },
  {
   "cell_type": "code",
   "execution_count": 6,
   "id": "73bbf09b",
   "metadata": {},
   "outputs": [],
   "source": [
    "def f1(x):\n",
    "    return 105*np.power(x,2)*np.power(1-x,4)"
   ]
  },
  {
   "cell_type": "code",
   "execution_count": 7,
   "id": "e8d2d9b8",
   "metadata": {},
   "outputs": [],
   "source": [
    "def d2_f1(x):\n",
    "    return 210*(15*np.power(x,2) -10*x + 1)*np.power((1-x),2)"
   ]
  },
  {
   "cell_type": "code",
   "execution_count": 8,
   "id": "25a5f98d",
   "metadata": {},
   "outputs": [],
   "source": [
    "def fao(tau):\n",
    "    return (trapezoidal_rule(0,tau,10000,f1) - 0.5)"
   ]
  },
  {
   "cell_type": "code",
   "execution_count": 9,
   "id": "f449dc05",
   "metadata": {},
   "outputs": [],
   "source": [
    "def newton_method(a,b,alpha_0,n_max,epsilon,func,d_func):\n",
    "    alpha = [alpha_0]\n",
    "    n = 0\n",
    "    while (func(alpha[n] + epsilon)*func(alpha[n] - epsilon) >= 0 and n <= n_max):\n",
    "        alpha.append(alpha[n] - func(alpha[n])/d_func(alpha[n]))\n",
    "        n = n + 1\n",
    "    return alpha[n],alpha[1:]"
   ]
  },
  {
   "cell_type": "code",
   "execution_count": 10,
   "id": "86db7b44",
   "metadata": {},
   "outputs": [],
   "source": [
    "def bisection_method(a,b,n_max,epsilon,func):\n",
    "    inf = a\n",
    "    sup = b\n",
    "    alpha = [(a+b)/2]\n",
    "    n=0\n",
    "    while (func(alpha[n] + epsilon)*func(alpha[n] - epsilon) >= 0 and n <= n_max):\n",
    "        if(func(inf)*func(alpha[n]) == 0):\n",
    "            if(func(inf) == 0):\n",
    "                return inf, alpha[1:]\n",
    "            else:\n",
    "                return alpha[n], alpha[1:]\n",
    "            \n",
    "        elif(func(inf)*func(alpha[n])< 0):\n",
    "            sup = alpha[n]\n",
    "            \n",
    "        else:\n",
    "            inf = alpha[n]\n",
    "            \n",
    "        alpha.append((sup+inf)/2) \n",
    "        n = n + 1\n",
    "    return alpha[n], alpha[1:]"
   ]
  },
  {
   "cell_type": "code",
   "execution_count": 11,
   "id": "3aa27daa",
   "metadata": {},
   "outputs": [],
   "source": [
    "def approx_printer(alpha, fmt = \"plain\", formato = \".17f\"):\n",
    "    index = np.array([\"i\"],dtype = object)\n",
    "    \n",
    "    for j in range(1,len(alpha)+1):\n",
    "        index = np.append(index,j)\n",
    "        \n",
    "    \n",
    "    alpha = np.array(np.append([\"alpha_i\"],alpha), dtype = object)\n",
    "        \n",
    "    table = [index,alpha]\n",
    "    print(tabulate([alpha], headers = index, tablefmt = fmt,numalign=\"center\",floatfmt = formato))\n",
    "    return"
   ]
  },
  {
   "cell_type": "code",
   "execution_count": 12,
   "id": "67bd236c",
   "metadata": {},
   "outputs": [],
   "source": [
    "def approx_printer_txt(alpha, fmt = \"plain\"):\n",
    "    index = np.array([\"i\"],dtype = object)\n",
    "    \n",
    "    for j in range(1,len(alpha)+1):\n",
    "        index = np.append(index,j)\n",
    "        \n",
    "    \n",
    "    alpha = np.array(np.append([\"alpha_i\"],alpha), dtype = object)\n",
    "        \n",
    "    table = [index,alpha]\n",
    "    print(tabulate([alpha], headers = index, tablefmt = fmt,numalign=\"center\",floatfmt = \".17f\"), file = f)\n",
    "    return"
   ]
  },
  {
   "cell_type": "markdown",
   "id": "3479b602",
   "metadata": {},
   "source": [
    "## Item 1"
   ]
  },
  {
   "cell_type": "code",
   "execution_count": 13,
   "id": "4656ce0e",
   "metadata": {},
   "outputs": [],
   "source": [
    "#Valores de x\n",
    "x_values = np.array([0.0, 0.1, 0.2, 0.3, 0.4, 0.5, 0.6, 0.7, 0.8, 0.9, 1.0])\n",
    "text = ['x','g(x)',\"g'(x)\", \"g''(x)\"]\n",
    "\n",
    "#Tabela de dados\n",
    "table_data = np.array([ x_values, g(x_values),d_g(x_values),d2_g(x_values)] , dtype = object)\n",
    "table_data = np.insert(table_data,[0],[['x'],['g(x)'],[\"g'(x)\"], [\"g''(x)\"]], axis = 1)\n",
    "\n",
    "\n",
    "#for row in table_data:\n",
    "#    print(\"{: >5} {: >20} {: >20} {: >20} {: >20} {: >20} {: >20} {: >20} {: >20} {: >20} {: >20} {: >20}\".format(*row))\n"
   ]
  },
  {
   "cell_type": "code",
   "execution_count": 14,
   "id": "75d4ba17",
   "metadata": {},
   "outputs": [
    {
     "name": "stdout",
     "output_type": "stream",
     "text": [
      "Tarefa 1, Item 1\n",
      "A tabela contendo todas as casas decimais é:\n",
      "+--------+--------------------------+--------------------------+--------------------------+--------------------------+--------------------------+--------------------------+-------------------------+-------------------------+-------------------------+-------------------------+-------------------------+\n",
      "| x      |                      0.0 |                      0.1 |                      0.2 |                      0.3 |                      0.4 |                      0.5 |                     0.6 |                     0.7 |                     0.8 |                     0.9 |                     1.0 |\n",
      "+========+==========================+==========================+==========================+==========================+==========================+==========================+=========================+=========================+=========================+=========================+=========================+\n",
      "| g(x)   |  -2520.00000000000000000 |  -1247.39999999999963620 |   -403.19999999999981810 |     88.19999999999980389 |    302.40000000000026148 |    315.00000000000000000 |   201.60000000000019327 |    37.79999999999919424 |  -100.80000000000009663 |  -138.60000000000152909 |     0.00000000000000000 |\n",
      "+--------+--------------------------+--------------------------+--------------------------+--------------------------+--------------------------+--------------------------+-------------------------+-------------------------+-------------------------+-------------------------+-------------------------+\n",
      "| g'(x)  |  15120.00000000000000000 |  10458.00000000000000000 |   6552.00000000000000000 |   3401.99999999999909051 |   1008.00000000000090949 |   -630.00000000000000000 | -1512.00000000000136424 | -1638.00000000000318323 | -1007.99999999999636202 |   378.00000000000090949 |  2520.00000000000000000 |\n",
      "+--------+--------------------------+--------------------------+--------------------------+--------------------------+--------------------------+--------------------------+-------------------------+-------------------------+-------------------------+-------------------------+-------------------------+\n",
      "| g''(x) | -50400.00000000000000000 | -42840.00000000000000000 | -35280.00000000000000000 | -27720.00000000000363798 | -20159.99999999999636202 | -12600.00000000000000000 | -5040.00000000000454747 |  2519.99999999999090505 | 10080.00000000000909495 | 17640.00000000000363798 | 25200.00000000000000000 |\n",
      "+--------+--------------------------+--------------------------+--------------------------+--------------------------+--------------------------+--------------------------+-------------------------+-------------------------+-------------------------+-------------------------+-------------------------+\n",
      "\n",
      "A Tabela em sua versão de visualizacao facilitada:\n",
      "+--------+----------+----------+----------+----------+----------+----------+---------+---------+---------+---------+---------+\n",
      "| x      |      0.0 |      0.1 |      0.2 |      0.3 |      0.4 |      0.5 |     0.6 |     0.7 |     0.8 |     0.9 |     1.0 |\n",
      "+--------+----------+----------+----------+----------+----------+----------+---------+---------+---------+---------+---------+\n",
      "| g(x)   |  -2520.0 |  -1247.4 |   -403.2 |     88.2 |    302.4 |    315.0 |   201.6 |    37.8 |  -100.8 |  -138.6 |     0.0 |\n",
      "+--------+----------+----------+----------+----------+----------+----------+---------+---------+---------+---------+---------+\n",
      "| g'(x)  |  15120.0 |  10458.0 |   6552.0 |   3402.0 |   1008.0 |   -630.0 | -1512.0 | -1638.0 | -1008.0 |   378.0 |  2520.0 |\n",
      "+--------+----------+----------+----------+----------+----------+----------+---------+---------+---------+---------+---------+\n",
      "| g''(x) | -50400.0 | -42840.0 | -35280.0 | -27720.0 | -20160.0 | -12600.0 | -5040.0 |  2520.0 | 10080.0 | 17640.0 | 25200.0 |\n",
      "+--------+----------+----------+----------+----------+----------+----------+---------+---------+---------+---------+---------+\n",
      "\n"
     ]
    }
   ],
   "source": [
    "#Imprimindo os resultados\n",
    "\n",
    "print(\"Tarefa 1, Item 1\")\n",
    "print(\"A tabela contendo todas as casas decimais é:\")\n",
    "print(tabulate(table_data[1:],headers = table_data[:1][0],tablefmt='grid',numalign=\"right\", floatfmt = \".17f\"))\n",
    "print()\n",
    "print('A Tabela em sua versão de visualizacao facilitada:')\n",
    "print(tabulate(table_data,tablefmt='grid',numalign=\"right\", floatfmt = \".1f\"))\n",
    "print()"
   ]
  },
  {
   "cell_type": "code",
   "execution_count": 15,
   "id": "02251a21",
   "metadata": {},
   "outputs": [],
   "source": [
    "#Escrevendo a tabela em um arquivo .txt\n",
    "#f = open(\"lista_1_output.txt\", \"w\")\n",
    "#for row in table_data:\n",
    "#    print(\"{: >6} {: >23} {: >23} {: >23} {: >23} {: >23} {: >23} {: >23} {: >23} {: >23} {: >23} {: >23}\".format(*row), file = f)\n",
    "#f.close()"
   ]
  },
  {
   "cell_type": "code",
   "execution_count": 16,
   "id": "04df8c11",
   "metadata": {},
   "outputs": [],
   "source": [
    "\n",
    "#Escrevendo a tabela em um arquivo .txt\n",
    "f = open(\"lista_1_output.txt\", \"w\")\n",
    "print('Tarefa 1, item 1', file = f)\n",
    "print(tabulate(table_data[1:],headers = table_data[:1][0],tablefmt='grid',numalign=\"right\", floatfmt = \".17f\"), file = f)\n",
    "print(file = f)\n",
    "f.close()"
   ]
  },
  {
   "cell_type": "markdown",
   "id": "74e7c89e",
   "metadata": {},
   "source": [
    "## Item 2"
   ]
  },
  {
   "cell_type": "code",
   "execution_count": 17,
   "id": "22ea4326",
   "metadata": {},
   "outputs": [
    {
     "name": "stdout",
     "output_type": "stream",
     "text": [
      "Tarefa 1, item 2\n",
      "Verificacao para I1 e alpha_0=0.3\n",
      "g(0.3)*g(0.2) = -35562.2399999999\n",
      "alpha_1 = 0.27407407407407414\n",
      "\n",
      "Verificacao para I2 e alpha_0=0.7\n",
      "g(0.7)*g(0.8) = -3810.2399999999225\n",
      "alpha_1 = 0.7230769230769225\n",
      "\n"
     ]
    }
   ],
   "source": [
    "# Contas da verificação I1 = [0.2, 0.3] e α0 = 0.3:\n",
    "print('Tarefa 1, item 2')\n",
    "print('Verificacao para I1 e alpha_0=0.3')\n",
    "print('g(0.3)*g(0.2) =', g(0.3)*g(0.2))\n",
    "print('alpha_1 =', 0.3-g(0.3)/d_g(0.3))\n",
    "print()\n",
    "\n",
    "# Contas da verificação I2 = [0.7, 0.8] e α0 = 0.7:\n",
    "print('Verificacao para I2 e alpha_0=0.7')\n",
    "print('g(0.7)*g(0.8) =', g(0.7)*g(0.8))\n",
    "print('alpha_1 =', 0.7-g(0.7)/d_g(0.7))\n",
    "print()\n"
   ]
  },
  {
   "cell_type": "code",
   "execution_count": 18,
   "id": "6ed771b5",
   "metadata": {},
   "outputs": [],
   "source": [
    "#Escrevendo esses resultados em um arquivo .txt\n",
    "f = open(\"lista_1_output.txt\", \"a\")\n",
    "print('Tarefa 1, item 2', file = f)\n",
    "print('Verificacao para I1 e alpha_0=0.3', file = f)\n",
    "print('g(0.3)*g(0.2) =', g(0.3)*g(0.2), file = f)\n",
    "print('alpha_1 =', 0.3-g(0.3)/d_g(0.3), file = f)\n",
    "print( file = f)\n",
    "print('Verificacao para I2 e alpha_0=0.7', file = f)\n",
    "print('g(0.7)*g(0.8) =', g(0.7)*g(0.8), file = f)\n",
    "print('alpha_1 =', 0.7-g(0.7)/d_g(0.7), file = f)\n",
    "print(file = f)\n",
    "f.close()"
   ]
  },
  {
   "cell_type": "markdown",
   "id": "05f294ad",
   "metadata": {},
   "source": [
    "## Item 3"
   ]
  },
  {
   "cell_type": "code",
   "execution_count": 19,
   "id": "3c961d80",
   "metadata": {},
   "outputs": [],
   "source": [
    "#Teste\n",
    "\n",
    "#approx_printer(newton_method(0.15,0.3,0.15,1000,1e-10,g,d_g)[1])\n",
    "\n"
   ]
  },
  {
   "cell_type": "code",
   "execution_count": 20,
   "id": "72b738df",
   "metadata": {},
   "outputs": [],
   "source": [
    "#Calculando x*_1:\n",
    "#Dados:\n",
    "a = 0.2\n",
    "b = 0.3\n",
    "alpha_0 = 0.3\n",
    "n_max = 1000\n",
    "epsilon = 1e-10\n",
    "\n",
    "#Utilizando o método de Newton:\n",
    "x_1 = newton_method(a,b,alpha_0,n_max,epsilon,g,d_g)\n",
    "\n",
    "\n",
    "#Calculando x*_2:\n",
    "#Dados\n",
    "a = 0.7\n",
    "b = 0.8\n",
    "alpha_0 = 0.7\n",
    "\n",
    "#Utilizando o método de Newton:\n",
    "x_2 = newton_method(a,b,alpha_0,n_max,epsilon,g,d_g)\n",
    "\n",
    "x_3 = 1\n",
    "#Calculando x*_2:\n",
    "#Dados\n",
    "#a = 0.9\n",
    "#b = 1\n",
    "#alpha_0 = 1\n",
    "\n",
    "#Utilizando o método de Newton:\n",
    "#x_3 = newton_method(a,b,alpha_0,n_max,epsilon,g,d_g)\n",
    "\n",
    "#Imprimindo a raíz encontrada e todas as aproximações:\n",
    "#print(\"x*_3 = \", x_3[0])\n",
    "#print()\n",
    "#approx_printer(x_3[1])"
   ]
  },
  {
   "cell_type": "code",
   "execution_count": 21,
   "id": "84e65a88",
   "metadata": {},
   "outputs": [
    {
     "name": "stdout",
     "output_type": "stream",
     "text": [
      "A raiz x^*_1 encontrada é 0.27639320225002106 \n",
      "A tabela contendo as aproximacoes que encontramos ao longo das iteracoes é:\n",
      "+---------+---------------------+---------------------+---------------------+---------------------+\n",
      "| i       |          1          |          2          |          3          |          4          |\n",
      "+=========+=====================+=====================+=====================+=====================+\n",
      "| alpha_i | 0.27407407407407414 | 0.27637398946386771 | 0.27639320091463382 | 0.27639320225002106 |\n",
      "+---------+---------------------+---------------------+---------------------+---------------------+\n",
      "\n",
      "A raiz x^*_2 encontrada é 0.72360679774977421 \n",
      "A tabela contendo as aproximacoes que encontramos ao longo das iteracoes é:\n",
      "+---------+---------------------+---------------------+---------------------+\n",
      "| i       |          1          |          2          |          3          |\n",
      "+=========+=====================+=====================+=====================+\n",
      "| alpha_i | 0.72307692307692251 | 0.72360641270775283 | 0.72360679774977421 |\n",
      "+---------+---------------------+---------------------+---------------------+\n",
      "\n"
     ]
    }
   ],
   "source": [
    "#imprimindo os resultados:\n",
    "\n",
    "print('A raiz x^*_1 encontrada é %.17f ' % x_1[0])\n",
    "print('A tabela contendo as aproximacoes que encontramos ao longo das iteracoes é:')\n",
    "approx_printer(x_1[1], \"grid\")\n",
    "print()\n",
    "print('A raiz x^*_2 encontrada é %.17f ' % x_2[0])\n",
    "print('A tabela contendo as aproximacoes que encontramos ao longo das iteracoes é:')\n",
    "approx_printer(x_2[1], \"grid\")\n",
    "print()"
   ]
  },
  {
   "cell_type": "code",
   "execution_count": 22,
   "id": "e0d88e24",
   "metadata": {},
   "outputs": [],
   "source": [
    "#Escrevendo em um arquivo .txt:\n",
    "\n",
    "f = open(\"lista_1_output.txt\", \"a\")\n",
    "print('Tarefa 1, item 3', file = f)\n",
    "print('A raiz x^*_1 encontrada é %.17f ' % x_1[0], file = f)\n",
    "print('A tabela contendo as aproximacoes que encontramos ao longo das iteracoes é:', file = f)\n",
    "approx_printer_txt(x_1[1], \"grid\")\n",
    "print(file = f)\n",
    "print('A raiz x^*_2 encontrada é %.17f ' % x_2[0], file = f)\n",
    "print('A tabela contendo as aproximacoes que encontramos ao longo das iteracoes é:', file = f)\n",
    "approx_printer_txt(x_2[1], \"grid\")\n",
    "print(file = f)\n",
    "f.close()"
   ]
  },
  {
   "cell_type": "markdown",
   "id": "07e0c48b",
   "metadata": {},
   "source": [
    "## Item 4\n",
    "\n",
    "$$h = \\frac{b-a}{m}\\leq \\sqrt{\\frac{12\\varepsilon}{(b-a) max|f^{(2)}|}}$$\n",
    "\n",
    "$$ \\frac{b-a}{\\sqrt{\\frac{12\\varepsilon}{(b-a) max|f^{(2)}|}}}\\leq m $$"
   ]
  },
  {
   "cell_type": "code",
   "execution_count": 23,
   "id": "43ef8b89",
   "metadata": {},
   "outputs": [],
   "source": [
    "#Calculando max f^(2)(x):\n",
    "set_max = [np.absolute(d2_f1(0)),np.absolute(d2_f1(x_1[0])),np.absolute(d2_f1(x_2[0])),np.absolute(d2_f1(x_3)),np.absolute(d2_f1(1))]\n",
    "max_d2_f = np.amax(set_max)\n",
    "\n",
    "\n",
    "#Calculando m_min:\n",
    "a = 0\n",
    "b = 1\n",
    "epsilon = 1e-8\n",
    "m_min = (b-a)*np.power(np.sqrt((12*epsilon)/((b-a)*max_d2_f)),-1)\n",
    "m_min = int(np.ceil(m_min))\n",
    "h_max = np.sqrt((12*epsilon)/((b-a)*max_d2_f))\n",
    "\n",
    "\n",
    "#Calculando T_m:\n",
    "t_m = trapezoidal_rule(0,1,m_min,f1)\n",
    "\n",
    "\n",
    "#Verificando se satisfaz a precisão:\n",
    "erro_int = np.power(b-a,3)/(12 * np.power(float(m_min),2)) * np.absolute(max_d2_f) \n",
    "verif = np.absolute(t_m-1)\n",
    "\n"
   ]
  },
  {
   "cell_type": "code",
   "execution_count": 24,
   "id": "1fc67f1a",
   "metadata": {},
   "outputs": [
    {
     "name": "stdout",
     "output_type": "stream",
     "text": [
      "O valor maximo do módula da segunda derivada de f(x) e 210.0\n",
      "O valor maximo do tamanho do intervalo e h_max = 0.00002390457218669\n",
      "O valor minimo de subdivisoes do intervalo e m_min = 41834\n",
      "O valor de T_m utilizando m_min e 0.99999999999998845\n",
      "O módulo do desvio do valor exato da intergral e 1.1546319456101628e-14\n",
      "O erro de integracao para funcoes suaves e 9.999522559938847e-09\n",
      "T_m satisfaz a precião e o erro de integração? True\n",
      "\n"
     ]
    }
   ],
   "source": [
    "#Imprimindo os resultados\n",
    "\n",
    "print(\"O valor maximo do módula da segunda derivada de f(x) e %.1f\" % max_d2_f)\n",
    "print(\"O valor maximo do tamanho do intervalo e h_max = %.17f\" % h_max)\n",
    "print(\"O valor minimo de subdivisoes do intervalo e m_min = %.f\" % m_min)\n",
    "print(\"O valor de T_m utilizando m_min e %.17f\" % t_m)\n",
    "print(\"O módulo do desvio do valor exato da intergral e\",verif)\n",
    "print(\"O erro de integracao para funcoes suaves e\", erro_int)\n",
    "print(\"T_m satisfaz a precião e o erro de integração?\", verif <= erro_int and erro_int <= epsilon )\n",
    "print()"
   ]
  },
  {
   "cell_type": "code",
   "execution_count": 25,
   "id": "302363db",
   "metadata": {},
   "outputs": [],
   "source": [
    "#Imprimindo os resultados em um aqruivo .txt:\n",
    "\n",
    "f = open(\"lista_1_output.txt\", \"a\")\n",
    "print('Tarefa 1, item 4', file = f)\n",
    "print(\"O valor maximo do módula da segunda derivada de f(x) e %.1f\" % max_d2_f, file = f)\n",
    "print(\"O valor maximo do tamanho do intervalo e h_max = %.17f\" % h_max, file = f)\n",
    "print(\"O valor minimo de subdivisoes do intervalo e m_min = %.f\" % m_min, file = f)\n",
    "print(\"O valor de T_m utilizando m_min e %.17f\" % t_m, file = f)\n",
    "print(\"O módulo do desvio do valor exato da intergral e\",verif, file = f)\n",
    "print(\"O erro de integracao para funcoes suaves e\", erro_int, file = f)\n",
    "print(\"T_m satisfaz a precião e o erro de integração?\", verif <= erro_int and erro_int <= epsilon , file = f)\n",
    "print( file = f)\n",
    "f.close()\n"
   ]
  },
  {
   "cell_type": "markdown",
   "id": "0b91cde1",
   "metadata": {},
   "source": [
    "# Tarefa 2"
   ]
  },
  {
   "cell_type": "markdown",
   "id": "7228230c",
   "metadata": {},
   "source": [
    "## Item 1"
   ]
  },
  {
   "cell_type": "code",
   "execution_count": 26,
   "id": "03e6b005",
   "metadata": {},
   "outputs": [
    {
     "name": "stdout",
     "output_type": "stream",
     "text": [
      "Tempo para o metodo de Newton: 0.5813467502593994 segundos\n",
      "Tempo para o metodo da bisseção 5.729696989059448 segundos\n"
     ]
    }
   ],
   "source": [
    "#Dados\n",
    "a = 0\n",
    "b = 1\n",
    "n_max = 100000\n",
    "epsilon = 1e-10\n",
    "alpha_0 = 0.5\n",
    "\n",
    "#Método de Newton\n",
    "stn_time = time.time()\n",
    "raiz_Newton = newton_method(a,b,alpha_0,n_max,epsilon,fao,f1)\n",
    "newton_time = time.time() - stn_time\n",
    "\n",
    "#Método da bisseção\n",
    "stb_time = time.time()\n",
    "raiz_bisection = bisection_method(a,b,n_max,epsilon,fao)\n",
    "bisection_time = time.time() - stb_time"
   ]
  },
  {
   "cell_type": "code",
   "execution_count": 27,
   "id": "33870b54",
   "metadata": {},
   "outputs": [
    {
     "name": "stdout",
     "output_type": "stream",
     "text": [
      "Tarefa 2, item 1\n",
      "A raiz obtida pelo metodo de Newton e tau = 0.36411608653621602\n",
      "O tempo para gerar esta raiz utilizando o metodo de Newton foi: 0.5813467502593994 segundos\n",
      "As aproximacoes encontradas ao longo das iteracoes sao:\n",
      "+---------+---------------------+---------------------+---------------------+---------------------+\n",
      "| i       |          1          |          2          |          3          |          4          |\n",
      "+=========+=====================+=====================+=====================+=====================+\n",
      "| alpha_i | 0.33333333416666722 | 0.36398809523809539 | 0.36411608001959911 | 0.36411608653621602 |\n",
      "+---------+---------------------+---------------------+---------------------+---------------------+\n",
      "\n",
      "A raiz obtida pelo metodo de bissecao e tau = 0.36411608662456274\n",
      "O tempo para gerar esta raiz utilizando o metodo de Newton foi: 5.729696989059448 segundos\n",
      "As aproximacoes encontradas ao longo das iteracoes sao:\n",
      "+---------+---------------------+---------------------+---------------------+---------------------+---------------------+---------------------+---------------------+---------------------+---------------------+---------------------+---------------------+---------------------+---------------------+---------------------+---------------------+---------------------+---------------------+---------------------+---------------------+---------------------+---------------------+---------------------+---------------------+---------------------+---------------------+---------------------+---------------------+---------------------+---------------------+\n",
      "| i       |          1          |          2          |          3          |          4          |          5          |          6          |          7          |          8          |          9          |         10          |         11          |         12          |         13          |         14          |         15          |         16          |         17          |         18          |         19          |         20          |         21          |         22          |         23          |         24          |         25          |         26          |         27          |         28          |         29          |\n",
      "+=========+=====================+=====================+=====================+=====================+=====================+=====================+=====================+=====================+=====================+=====================+=====================+=====================+=====================+=====================+=====================+=====================+=====================+=====================+=====================+=====================+=====================+=====================+=====================+=====================+=====================+=====================+=====================+=====================+=====================+\n",
      "| alpha_i | 0.25000000000000000 | 0.37500000000000000 | 0.31250000000000000 | 0.34375000000000000 | 0.35937500000000000 | 0.36718750000000000 | 0.36328125000000000 | 0.36523437500000000 | 0.36425781250000000 | 0.36376953125000000 | 0.36401367187500000 | 0.36413574218750000 | 0.36407470703125000 | 0.36410522460937500 | 0.36412048339843750 | 0.36411285400390625 | 0.36411666870117188 | 0.36411476135253906 | 0.36411571502685547 | 0.36411619186401367 | 0.36411595344543457 | 0.36411607265472412 | 0.36411613225936890 | 0.36411610245704651 | 0.36411608755588531 | 0.36411608010530472 | 0.36411608383059502 | 0.36411608569324017 | 0.36411608662456274 |\n",
      "+---------+---------------------+---------------------+---------------------+---------------------+---------------------+---------------------+---------------------+---------------------+---------------------+---------------------+---------------------+---------------------+---------------------+---------------------+---------------------+---------------------+---------------------+---------------------+---------------------+---------------------+---------------------+---------------------+---------------------+---------------------+---------------------+---------------------+---------------------+---------------------+---------------------+\n",
      "\n"
     ]
    }
   ],
   "source": [
    "#Imprimindo os resultados\n",
    "\n",
    "print('Tarefa 2, item 1')\n",
    "print('A raiz obtida pelo metodo de Newton e tau = %.17f' % raiz_Newton[0])\n",
    "print(\"O tempo para gerar esta raiz utilizando o metodo de Newton foi: %s segundos\" % (newton_time))\n",
    "print('As aproximacoes encontradas ao longo das iteracoes sao:')\n",
    "approx_printer(raiz_Newton[1], \"grid\")\n",
    "print()\n",
    "print('A raiz obtida pelo metodo de bissecao e tau = %.17f' % raiz_bisection[0])\n",
    "print(\"O tempo para gerar esta raiz utilizando o metodo de Newton foi: %s segundos\" % (bisection_time))\n",
    "print('As aproximacoes encontradas ao longo das iteracoes sao:')\n",
    "approx_printer(raiz_bisection[1], \"grid\")\n",
    "print()"
   ]
  },
  {
   "cell_type": "code",
   "execution_count": 28,
   "id": "c5ac09b7",
   "metadata": {},
   "outputs": [],
   "source": [
    "#Imprimindo em um arquivo .txt\n",
    "f = open(\"lista_1_output.txt\", \"a\")\n",
    "print('Tarefa 2, item 1', file = f)\n",
    "print('A raiz obtida pelo metodo de Newton e tau = %.17f' % raiz_Newton[0], file = f)\n",
    "print(\"O tempo para gerar esta raiz utilizando o metodo de Newton foi: %s segundos\" % (newton_time), file = f)\n",
    "print('As aproximacoes encontradas ao longo das iteracoes sao:', file = f)\n",
    "approx_printer_txt(raiz_Newton[1], \"grid\")\n",
    "print( file = f)\n",
    "print('A raiz obtida pelo metodo de bissecao e tau = %.17f' % raiz_bisection[0], file = f)\n",
    "print(\"O tempo para gerar esta raiz utilizando o metodo de Newton foi: %s segundos\" % (bisection_time), file = f)\n",
    "print('As aproximacoes encontradas ao longo das iteracoes sao:', file = f)\n",
    "approx_printer_txt(raiz_bisection[1], \"grid\")\n",
    "print( file = f)\n",
    "f.close()"
   ]
  },
  {
   "cell_type": "code",
   "execution_count": null,
   "id": "68c1ba45",
   "metadata": {},
   "outputs": [],
   "source": []
  }
 ],
 "metadata": {
  "kernelspec": {
   "display_name": "Python 3 (ipykernel)",
   "language": "python",
   "name": "python3"
  },
  "language_info": {
   "codemirror_mode": {
    "name": "ipython",
    "version": 3
   },
   "file_extension": ".py",
   "mimetype": "text/x-python",
   "name": "python",
   "nbconvert_exporter": "python",
   "pygments_lexer": "ipython3",
   "version": "3.9.12"
  }
 },
 "nbformat": 4,
 "nbformat_minor": 5
}
