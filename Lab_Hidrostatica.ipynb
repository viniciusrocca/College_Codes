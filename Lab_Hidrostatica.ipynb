{
 "cells": [
  {
   "cell_type": "code",
   "execution_count": 2,
   "id": "65706013",
   "metadata": {},
   "outputs": [],
   "source": [
    "from scipy.optimize import curve_fit\n",
    "import numpy as np\n",
    "import matplotlib\n",
    "from matplotlib import pyplot as plt\n",
    "%matplotlib inline "
   ]
  },
  {
   "cell_type": "markdown",
   "id": "d03237f2",
   "metadata": {},
   "source": [
    "# Parte 1\n",
    "\n",
    "### Dados coletados:\n",
    "\n",
    "O peso do conjunto (ausência de Becker) indicado pelo dinamometro foi de:\n",
    "\n",
    "$$P = 0.87 \\ N$$\n",
    "\n",
    "Onde o dinamometro apresenta um erro $\\sigma_P = 0.01 \\ N$, visto que esta é metade da sua menor divisão da escala. \n",
    "\n",
    "Com o cilíndro totalmente imerso na água, a leitura do dinamômetro indicou um peso aparente de:\n",
    "\n",
    "$$P_{ap} = (0.43 \\pm 0.01) \\ N$$\n",
    "\n",
    "O empuxo causado pelo líquido pode ser medido através da diferença entre o peso real do aparato e seu peso aparente, ou seja:\n",
    "\n",
    "$$F_E = P - P_{ap} =0.87-0.43 = 0.44 \\ N$$\n",
    "\n",
    "Sua incerteza pode ser calculada através da propagação de erros de ambas as medidas da seguinte forma:\n",
    "\n",
    "$$\\sigma_{F_E} = \\sqrt{\\sigma_P^2 + \\sigma_{P_{ap}}^2}$$\n",
    "\n",
    "Como ambas as incertezas são iguais a $0.01$ N:\n",
    "\n",
    "$$\\sigma_{F_E} = 0.01 \\ \\sqrt{2} = 1.41421356237 \\ 10^{-2}$$\n",
    "\n",
    "Arredondando para apenas um algarismo significativo:\n",
    "\n",
    "$$\\sigma_{F_E} = 0.01 \\ N$$\n",
    "\n",
    "\n",
    "Para que a força lida no dinamômetro se iguale ao peso do conjunto, foi necessário adicionar um volume $V_w = 46$ ml de água no cilíndro transparente. Tal volume foi medido através de uma proveta que apresenta um erro $\\sigma_{V_w} = 1$ ml. O Peso de água colocado é:\n",
    "\n",
    "$$P_{w} = m_{w} g$$\n",
    "\n",
    "Como $m_{w} = \\rho_{w}V_{w}$:\n",
    "\n",
    "$$P_{w} = \\rho_{w}V_{w} g$$\n",
    "\n",
    "A incerteza do peso de água pode ser calculada através da propagação do erro na medida do volume:\n",
    "\n",
    "$$\\sigma_{P_w} = \\sqrt{\\left(\\frac{\\partial P_w}{\\partial V_w}\\right)^2\\sigma_{V_w}^2}$$\n",
    "$$\\sigma_{P_w} = \\sqrt{\\left(\\frac{\\partial\\rho_{w}V_{w} g }{\\partial V_w}\\right)^2\\sigma_{V_w}^2}$$\n",
    "$$\\sigma_{P_w} = \\sqrt{\\left(\\rho_{w} g\\right)^2\\sigma_{V_w}^2}$$\n",
    "$$\\sigma_{P_w} = \\rho_{w} g\\sigma_{V_w}$$\n",
    "\n",
    "Utilizando que $\\rho_w = 10^{-3}$ kg/ml, $V_w = (46 \\pm 1)$ ml e $g = 9.8$ m/$s^2$:\n",
    "\n"
   ]
  },
  {
   "cell_type": "code",
   "execution_count": 6,
   "id": "fd123aa3",
   "metadata": {},
   "outputs": [
    {
     "name": "stdout",
     "output_type": "stream",
     "text": [
      "P_w = (0.45 +- 0.01) N\n"
     ]
    }
   ],
   "source": [
    "p_w = 1e-3*46*9.8 #N\n",
    "\n",
    "sigma_p_w = 1e-3*9.8*1\n",
    "sigma_p_w = float('{:g}'.format(float('{:.1g}'.format(sigma_w))))\n",
    "\n",
    "casas = str(sigma_p_w)[::-1].find('.')\n",
    "p_w = np.round(p_w, casas)\n",
    "\n",
    "print('P_w = (%.2f +- %.2f) N' %(p_w,sigma_p_w))\n",
    "\n"
   ]
  },
  {
   "cell_type": "markdown",
   "id": "3305838a",
   "metadata": {},
   "source": [
    "$$P_w = (0.45 \\pm 0.01) \\ N$$\n",
    "\n",
    "Note que este valor coincide com $F_E = (0.44 \\pm 0.01)$ N, quando consideramos suas incertezas. Como o volume do cilíndro transparente é o mesmo do maciço, então podemos dizer que o volume de água deslocado ao mergulharmos o cilíndro maciço é o mesmo que adicionamos para que a força medida seja igual ao peso do aparato. Além disto, vimos que o peso desse volume deslocado é igual ao valor da força de empuxo, o que verifica o princípio de Arquimedes"
   ]
  },
  {
   "cell_type": "markdown",
   "id": "5b67c72f",
   "metadata": {},
   "source": [
    "# Parte 2\n",
    "\n",
    "A massa do cilíndro foi medida em uma balança com erro de $0.01$ g, a qual nos forneceu o seguinte valor:\n",
    "    \n",
    "$$m_c = (63.25\\pm 0.01) \\ g = (6.325\\pm 0.001) \\ 10^{-2} kg$$\n",
    "\n",
    "O volume de líquido deslocado é igual ao do cilíndro maciço que foi mergulhado, ou seja:\n",
    "\n",
    "$$ V_c = \\frac{\\pi d^2 h}{4}$$ \n",
    "\n",
    "Como $d$ e $h$ foram medidos com uma régua, ambos tem uma incerteza $\\sigma_{regua} = 5 \\ 10^{-4}$ m. Propagando esta incerteza para o volume:\n",
    "\n",
    "$$\\sigma_{V_{c}} = \\sigma_{regua}\\sqrt{\\left(\\frac{\\partial  \\frac{\\pi d^2 h}{4}}{\\partial d}\\right)^2 + \\left(\\frac{\\partial  \\frac{\\pi d^2 h}{4}}{\\partial h}\\right)^2}$$\n",
    "\n",
    "$$\\sigma_{V_{c}} = \\sigma_{regua}\\sqrt{\\left(  \\frac{\\pi d h}{2}\\right)^2 + \\left( \\frac{\\pi d^2 }{4}\\right)^2}$$\n",
    "\n",
    "$$\\sigma_{V_{c}} = \\sigma_{regua}\\frac{\\pi d^2 h}{4}\\sqrt{\\left(  \\frac{2}{d}\\right)^2 + \\left( \\frac{1}{h}\\right)^2}$$\n",
    "\n",
    "$$\\sigma_{V_{c}} = V_{c}\\sigma_{regua}\\sqrt{\\left(  \\frac{2}{d}\\right)^2 + \\left( \\frac{1}{h}\\right)^2}$$\n",
    "\n",
    "Como $d = 3.25 \\ 10^{-2}$ m e $h = 7 \\ 10^{-2}$ m:\n",
    "\n",
    "$$V_{c} = (58 \\pm 2) \\mu m^3$$\n",
    "\n",
    "\n",
    "No entanto, nós também medimos o valor do volume deslocado utilizando a escala do Becker, o qual nos forneceu o seguinte valor:\n",
    "\n",
    "$$V_{ldb} = (50 \\pm 5) \\ \\mu m^3$$\n",
    "\n",
    "Desta forma, podemos utilizar o valor médio entre o volume do cilíndro e aquele medido pelo Becker:\n",
    "\n",
    "$$V_{ld} = \\frac{V_c + V_{ldb}}{2}$$\n",
    "\n",
    "Consequentemente, a incerteza proveniente da propagação de erros e do desvio padrão da média será:\n",
    "\n",
    "$$\\sigma_{V_{ld}} = \\sqrt{\\left(\\frac{\\partial \\frac{V_c + V_{ldb}}{2}}{\\partial V_c}\\right)^2\\sigma_{V_c}^2 + \\left(\\frac{\\partial \\frac{V_c + V_{ldb}}{2}}{\\partial V_{ldb}}\\right)^2\\sigma_{V_{ldb}}^2 + \\sigma_{std}^2}$$\n",
    "\n",
    "$$\\sigma_{V_{ld}} = \\sqrt{\\left( \\frac{1}{2}\\right)^2\\sigma_{V_c}^2 + \\left(\\frac{1}{2}\\right)^2\\sigma_{V_{ldb}}^2 + \\sigma_{std}^2}$$\n",
    "\n",
    "$$\\sigma_{V_{ld}} = \\sqrt{ \\frac{\\sigma_{V_c}^2 + \\sigma_{V_{ldb}}^2 }{4}+ \\sigma_{std}^2}$$\n"
   ]
  },
  {
   "cell_type": "code",
   "execution_count": 37,
   "id": "59921cb3",
   "metadata": {},
   "outputs": [
    {
     "name": "stdout",
     "output_type": "stream",
     "text": [
      "V_ld = (0.000054 +- 0.000005) m^3\n"
     ]
    }
   ],
   "source": [
    "d = 3.25e-2\n",
    "h = 7e-2\n",
    "sigma_regua = 5e-4\n",
    "\n",
    "v_ld = (np.pi*(d**2)*h)/4\n",
    "\n",
    "sigma_v_ld = v_ld*sigma_regua*np.sqrt(np.power(2/d,2) + np.power(1/h,2))\n",
    "\n",
    "sigma_v_ld = np.sqrt(np.power(sigma_v_ld/2,2) +np.power(5e-6/2,2) + np.power(np.std([v_ld,50e-6]),2) )\n",
    "\n",
    "\n",
    "sigma_v_ld = float('{:g}'.format(float('{:.1g}'.format(sigma_v_ld))))\n",
    "\n",
    "v_ld = np.round(v_ld, 6)\n",
    "\n",
    "v_ld = np.mean([v_ld,50e-6])\n",
    "\n",
    "print('V_ld = (%.6f +- %.6f) m^3' % (v_ld,sigma_v_ld))\n"
   ]
  },
  {
   "cell_type": "markdown",
   "id": "05054202",
   "metadata": {},
   "source": [
    "O volume de líquido deslocado é:\n",
    "\n",
    "$$V_{ld} = (54 \\pm 4) \\mu m^3$$\n",
    "\n",
    "A força que provoca a aparente diminuição do peso é a diferença entre o peso do cilíndro e a força medida $P_{ap} = (0.18 \\pm 0.01) \\ N$:\n",
    "\n",
    "$$E = P - P_{ap} = m_c g - P_{ap}$$\n",
    "\n",
    "\n",
    "A incerteza pode ser calculada através da propagação dos erros de $m_c$ e $P_{ap}$:\n",
    "\n",
    "$$\\sigma_{E} = \\sqrt{\\left(\\frac{\\partial (m_c g - P_{ap})}{\\partial m_c}\\right)^2\\sigma_{m_c}^2 + \\left(\\frac{\\partial (m_c g - P_{ap})}{\\partial P_{ap}}\\right)^2\\sigma_{P_{ap}}^2 }$$\n",
    "\n",
    "$$\\sigma_{E} = \\sqrt{\\left(g \\sigma_{m_c}\\right)^2 + \\sigma_{P_{ap}}^2 }$$"
   ]
  },
  {
   "cell_type": "code",
   "execution_count": 38,
   "id": "f24cb0e3",
   "metadata": {},
   "outputs": [
    {
     "name": "stdout",
     "output_type": "stream",
     "text": [
      "E = (0.44 +- 0.01) N\n"
     ]
    }
   ],
   "source": [
    "m_c = 63.25/1000 #kg\n",
    "sigma_m_c = 0.01/1000 #kg\n",
    "g = 9.8 #m/s^2\n",
    "p_ap = 0.18 #N\n",
    "sigma_p_ap = 0.01 #N\n",
    "\n",
    "empuxo = m_c*9.8 - p_ap\n",
    "\n",
    "sigma_e = np.sqrt(np.power(g*sigma_m_c,2) + np.power(sigma_p_ap,2))\n",
    "sigma_e = float('{:g}'.format(float('{:.1g}'.format(sigma_e))))\n",
    "\n",
    "empuxo = np.round(empuxo,2)\n",
    "\n",
    "print('E = (%.2f +- %.2f) N' % (empuxo,sigma_e))\n",
    "\n"
   ]
  },
  {
   "cell_type": "markdown",
   "id": "d8978f09",
   "metadata": {},
   "source": [
    "Pelo princípio de Arquimedes, o qual foi verificado na primeira parte do experimento, nós temos que:\n",
    "    \n",
    "$$E = \\rho_l V_{ld} g$$\n",
    "\n",
    "$$\\implies \\rho_l = \\frac{E}{V_{ld} g}$$\n",
    "\n",
    "A incerteza associada a densidade pode ser obtida através da propagação dos erros do volume e empuxo:\n",
    "\n",
    "$$\\sigma_{\\rho_l} = \\sqrt{\\left(\\frac{\\partial  \\frac{E}{V_{ld} g}}{\\partial E}\\right)^2\\sigma_{E}^2 + \\left(\\frac{\\partial  \\frac{E}{V_{ld} g}}{\\partial V_{ld}}\\right)^2\\sigma_{V_{ld}}^2}$$\n",
    "\n",
    "$$\\sigma_{\\rho_l} = \\sqrt{\\left( \\frac{1}{V_{ld} g}\\right)^2\\sigma_{E}^2 + \\left(  \\frac{E}{V_{ld}^2 g}\\right)^2\\sigma_{V_{ld}}^2}$$\n",
    "\n",
    "$$\\sigma_{\\rho_l} = \\frac{E}{V_{ld} g}\\sqrt{\\left( \\frac{\\sigma_E}{E}\\right)^2 + \\left(\\frac{\\sigma_{V_{ld}}}{V_{ld}}\\right)^2}$$\n",
    "\n",
    "$$\\sigma_{\\rho_l} = \\rho_l\\sqrt{\\left( \\frac{\\sigma_E}{E}\\right)^2 + \\left(\\frac{\\sigma_{V_{ld}}}{V_{ld}}\\right)^2}$$\n",
    "\n",
    "Utilizando os valores que calculamos anteriormente:"
   ]
  },
  {
   "cell_type": "code",
   "execution_count": 42,
   "id": "b704c438",
   "metadata": {},
   "outputs": [
    {
     "name": "stdout",
     "output_type": "stream",
     "text": [
      "rho = (800 +- 80) kg/m^3\n"
     ]
    }
   ],
   "source": [
    "\n",
    "rho = empuxo/(v_ld*g)\n",
    "\n",
    "sigma_rho = rho*np.sqrt(np.power(sigma_e/empuxo,2) + np.power(sigma_v_ld/v_ld,2))\n",
    "sigma_rho  = float('{:g}'.format(float('{:.1g}'.format(sigma_rho ))))\n",
    "rho = np.round(rho,-2)\n",
    "\n",
    "print('rho = (%.0f +- %.0f) kg/m^3' % (rho,sigma_rho))"
   ]
  },
  {
   "cell_type": "markdown",
   "id": "1e96b3c8",
   "metadata": {},
   "source": [
    "# Parte 3"
   ]
  },
  {
   "cell_type": "code",
   "execution_count": null,
   "id": "6142b25c",
   "metadata": {},
   "outputs": [],
   "source": []
  }
 ],
 "metadata": {
  "kernelspec": {
   "display_name": "Python 3 (ipykernel)",
   "language": "python",
   "name": "python3"
  },
  "language_info": {
   "codemirror_mode": {
    "name": "ipython",
    "version": 3
   },
   "file_extension": ".py",
   "mimetype": "text/x-python",
   "name": "python",
   "nbconvert_exporter": "python",
   "pygments_lexer": "ipython3",
   "version": "3.9.12"
  }
 },
 "nbformat": 4,
 "nbformat_minor": 5
}
